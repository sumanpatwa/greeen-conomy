{
 "cells": [
  {
   "cell_type": "code",
   "execution_count": 1,
   "metadata": {},
   "outputs": [],
   "source": [
    "import numpy as np # linear algebra\n",
    "import pandas as pd # data processing, CSV file I/O (e.g. pd.read_csv)\n",
    "import matplotlib.pyplot as plt"
   ]
  },
  {
   "cell_type": "code",
   "execution_count": 2,
   "metadata": {},
   "outputs": [],
   "source": [
    "data = pd.read_csv('C:\\\\Users\\\\Dell\\\\Desktop\\\\project m.sc\\\\WDIData.csv')"
   ]
  },
  {
   "cell_type": "code",
   "execution_count": 3,
   "metadata": {},
   "outputs": [
    {
     "name": "stdout",
     "output_type": "stream",
     "text": [
      "Countries: 264\n",
      "Country Codes: 264\n",
      "Indicators: 1443\n"
     ]
    }
   ],
   "source": [
    "countries = data['Country Name'].unique().tolist()\n",
    "codes = data['Country Code'].unique().tolist()\n",
    "indicators = data['Indicator Name'].unique().tolist()\n",
    "print(\"Countries: %d\" % (len(countries))) #Old method of printing\n",
    "print(\"Country Codes: {}\".format(len(codes)))\n",
    "print(\"Indicators: {}\".format(len(indicators)))"
   ]
  },
  {
   "cell_type": "markdown",
   "metadata": {},
   "source": [
    "# GDP per capita  for INDIA"
   ]
  },
  {
   "cell_type": "code",
   "execution_count": 4,
   "metadata": {},
   "outputs": [],
   "source": [
    "first_indicator = 'GDP per capita \\(current'\n",
    "country = 'India'\n",
    "\n",
    "mask1 = data['Indicator Name'].str.contains(first_indicator) \n",
    "mask2 = data['Country Name'].str.contains(country)\n",
    "\n",
    "# stage is just those indicators matching the USA for country code and CO2 emissions over time.\n",
    "c = data[mask1 & mask2]"
   ]
  },
  {
   "cell_type": "code",
   "execution_count": 5,
   "metadata": {},
   "outputs": [],
   "source": [
    "c = data[mask1 & mask2]\n",
    "c = c.iloc[1:,]\n",
    "c = c.transpose()\n",
    "c = c.iloc[4:,]\n",
    "df = pd.DataFrame(c)\n",
    "df.columns = ['India']\n",
    "df = df.iloc[:-1]\n"
   ]
  },
  {
   "cell_type": "code",
   "execution_count": 6,
   "metadata": {},
   "outputs": [
    {
     "data": {
      "text/html": [
       "<div>\n",
       "<style scoped>\n",
       "    .dataframe tbody tr th:only-of-type {\n",
       "        vertical-align: middle;\n",
       "    }\n",
       "\n",
       "    .dataframe tbody tr th {\n",
       "        vertical-align: top;\n",
       "    }\n",
       "\n",
       "    .dataframe thead th {\n",
       "        text-align: right;\n",
       "    }\n",
       "</style>\n",
       "<table border=\"1\" class=\"dataframe\">\n",
       "  <thead>\n",
       "    <tr style=\"text-align: right;\">\n",
       "      <th></th>\n",
       "      <th>India</th>\n",
       "    </tr>\n",
       "  </thead>\n",
       "  <tbody>\n",
       "    <tr>\n",
       "      <th>1960</th>\n",
       "      <td>82.1886</td>\n",
       "    </tr>\n",
       "    <tr>\n",
       "      <th>1961</th>\n",
       "      <td>85.3543</td>\n",
       "    </tr>\n",
       "    <tr>\n",
       "      <th>1962</th>\n",
       "      <td>89.8818</td>\n",
       "    </tr>\n",
       "    <tr>\n",
       "      <th>1963</th>\n",
       "      <td>101.126</td>\n",
       "    </tr>\n",
       "    <tr>\n",
       "      <th>1964</th>\n",
       "      <td>115.537</td>\n",
       "    </tr>\n",
       "  </tbody>\n",
       "</table>\n",
       "</div>"
      ],
      "text/plain": [
       "        India\n",
       "1960  82.1886\n",
       "1961  85.3543\n",
       "1962  89.8818\n",
       "1963  101.126\n",
       "1964  115.537"
      ]
     },
     "execution_count": 6,
     "metadata": {},
     "output_type": "execute_result"
    }
   ],
   "source": [
    "df.head(5)"
   ]
  },
  {
   "cell_type": "markdown",
   "metadata": {},
   "source": [
    "Time series analysis in this one of the variable is time."
   ]
  },
  {
   "cell_type": "code",
   "execution_count": 7,
   "metadata": {},
   "outputs": [
    {
     "name": "stdout",
     "output_type": "stream",
     "text": [
      "ADF =  4.717725979787687\n",
      "p value =  1.0\n",
      "No of lags =  0\n"
     ]
    }
   ],
   "source": [
    "\n",
    "## CHECKING FOR STATONARY\n",
    "from statsmodels.tsa.stattools import adfuller\n",
    "df.dropna(inplace = True)\n",
    "t = adfuller(df['India'],autolag ='AIC')\n",
    "print('ADF = ',t[0])\n",
    "print('p value = ',t[1])\n",
    "print('No of lags = ',t[2])"
   ]
  },
  {
   "cell_type": "markdown",
   "metadata": {},
   "source": [
    "It is observed that data is non stationary as p value is greater than 0.05 we\n",
    "accept null hypothesis that data is not stationary"
   ]
  },
  {
   "cell_type": "markdown",
   "metadata": {},
   "source": [
    "Applying diffrencing transformations:"
   ]
  },
  {
   "cell_type": "code",
   "execution_count": 8,
   "metadata": {},
   "outputs": [],
   "source": [
    "df['i']=df['India']-df['India'].shift(1)\n",
    "df['t']=df['i']-df['i'].shift(1)"
   ]
  },
  {
   "cell_type": "code",
   "execution_count": 9,
   "metadata": {},
   "outputs": [
    {
     "name": "stdout",
     "output_type": "stream",
     "text": [
      "ADF =  0.37039771734852023\n",
      "p value =  0.980353525228986\n",
      "No of lags =  9\n"
     ]
    }
   ],
   "source": [
    "\n",
    "## CHECKING FOR STATONARY\n",
    "from statsmodels.tsa.stattools import adfuller\n",
    "df.dropna(inplace = True)\n",
    "t = adfuller(df['i'],autolag ='AIC')\n",
    "print('ADF = ',t[0])\n",
    "print('p value = ',t[1])\n",
    "print('No of lags = ',t[2])"
   ]
  },
  {
   "cell_type": "markdown",
   "metadata": {},
   "source": [
    "Still data is non stationary."
   ]
  },
  {
   "cell_type": "code",
   "execution_count": 10,
   "metadata": {},
   "outputs": [
    {
     "name": "stdout",
     "output_type": "stream",
     "text": [
      "ADF =  -3.790467479601881\n",
      "p value =  0.0030063648648427335\n",
      "No of lags =  8\n"
     ]
    }
   ],
   "source": [
    "\n",
    "## CHECKING FOR STATONARY\n",
    "from statsmodels.tsa.stattools import adfuller\n",
    "df.dropna(inplace = True)\n",
    "t = adfuller(df['t'],autolag ='AIC')\n",
    "print('ADF = ',t[0])\n",
    "print('p value = ',t[1])\n",
    "print('No of lags = ',t[2])"
   ]
  },
  {
   "cell_type": "markdown",
   "metadata": {},
   "source": [
    "Now, it is seen data become stationary. We can proceed ahead with are ARMA model."
   ]
  },
  {
   "cell_type": "code",
   "execution_count": 11,
   "metadata": {},
   "outputs": [
    {
     "data": {
      "text/html": [
       "<div>\n",
       "<style scoped>\n",
       "    .dataframe tbody tr th:only-of-type {\n",
       "        vertical-align: middle;\n",
       "    }\n",
       "\n",
       "    .dataframe tbody tr th {\n",
       "        vertical-align: top;\n",
       "    }\n",
       "\n",
       "    .dataframe thead th {\n",
       "        text-align: right;\n",
       "    }\n",
       "</style>\n",
       "<table border=\"1\" class=\"dataframe\">\n",
       "  <thead>\n",
       "    <tr style=\"text-align: right;\">\n",
       "      <th></th>\n",
       "      <th>India</th>\n",
       "      <th>i</th>\n",
       "      <th>t</th>\n",
       "    </tr>\n",
       "  </thead>\n",
       "  <tbody>\n",
       "    <tr>\n",
       "      <th>1962</th>\n",
       "      <td>89.8818</td>\n",
       "      <td>4.52746</td>\n",
       "      <td>1.36176</td>\n",
       "    </tr>\n",
       "    <tr>\n",
       "      <th>1963</th>\n",
       "      <td>101.126</td>\n",
       "      <td>11.2447</td>\n",
       "      <td>6.71722</td>\n",
       "    </tr>\n",
       "    <tr>\n",
       "      <th>1964</th>\n",
       "      <td>115.537</td>\n",
       "      <td>14.4111</td>\n",
       "      <td>3.1664</td>\n",
       "    </tr>\n",
       "    <tr>\n",
       "      <th>1965</th>\n",
       "      <td>119.319</td>\n",
       "      <td>3.78142</td>\n",
       "      <td>-10.6296</td>\n",
       "    </tr>\n",
       "    <tr>\n",
       "      <th>1966</th>\n",
       "      <td>89.9973</td>\n",
       "      <td>-29.3216</td>\n",
       "      <td>-33.103</td>\n",
       "    </tr>\n",
       "  </tbody>\n",
       "</table>\n",
       "</div>"
      ],
      "text/plain": [
       "        India        i        t\n",
       "1962  89.8818  4.52746  1.36176\n",
       "1963  101.126  11.2447  6.71722\n",
       "1964  115.537  14.4111   3.1664\n",
       "1965  119.319  3.78142 -10.6296\n",
       "1966  89.9973 -29.3216  -33.103"
      ]
     },
     "execution_count": 11,
     "metadata": {},
     "output_type": "execute_result"
    }
   ],
   "source": [
    "df.head(5)"
   ]
  },
  {
   "cell_type": "code",
   "execution_count": 12,
   "metadata": {},
   "outputs": [
    {
     "data": {
      "text/plain": [
       "[<matplotlib.lines.Line2D at 0x2659bb51d00>]"
      ]
     },
     "execution_count": 12,
     "metadata": {},
     "output_type": "execute_result"
    },
    {
     "data": {
      "image/png": "[encoded data removed]",
      "text/plain": [
       "<Figure size 1152x432 with 1 Axes>"
      ]
     },
     "metadata": {
      "needs_background": "light"
     },
     "output_type": "display_data"
    }
   ],
   "source": [
    "from matplotlib import pyplot\n",
    "plt.subplots(figsize=(16,6)) \n",
    "y = np.arange(1962,2020)\n",
    "plt.plot(y,df['India'],color = 'black')"
   ]
  },
  {
   "cell_type": "markdown",
   "metadata": {},
   "source": [
    "Graph is plotted between year and corresponding income."
   ]
  },
  {
   "cell_type": "code",
   "execution_count": 99,
   "metadata": {},
   "outputs": [
    {
     "name": "stdout",
     "output_type": "stream",
     "text": [
      "Performing stepwise search to minimize aic\n",
      " ARIMA(2,0,2)(0,0,0)[0] intercept   : AIC=633.478, Time=0.32 sec\n",
      " ARIMA(0,0,0)(0,0,0)[0] intercept   : AIC=663.545, Time=0.02 sec\n",
      " ARIMA(1,0,0)(0,0,0)[0] intercept   : AIC=654.764, Time=0.04 sec\n",
      " ARIMA(0,0,1)(0,0,0)[0] intercept   : AIC=632.176, Time=0.06 sec\n",
      " ARIMA(0,0,0)(0,0,0)[0]             : AIC=661.573, Time=0.00 sec\n",
      " ARIMA(1,0,1)(0,0,0)[0] intercept   : AIC=634.175, Time=0.22 sec\n",
      " ARIMA(0,0,2)(0,0,0)[0] intercept   : AIC=634.174, Time=0.15 sec\n",
      " ARIMA(1,0,2)(0,0,0)[0] intercept   : AIC=inf, Time=0.15 sec\n",
      " ARIMA(0,0,1)(0,0,0)[0]             : AIC=632.705, Time=0.02 sec\n",
      "\n",
      "Best model:  ARIMA(0,0,1)(0,0,0)[0] intercept\n",
      "Total fit time: 0.987 seconds\n"
     ]
    }
   ],
   "source": [
    "from pmdarima import auto_arima\n",
    "step_wise = auto_arima(df['t'],trace = True,suppress_warnings = True)"
   ]
  },
  {
   "cell_type": "markdown",
   "metadata": {},
   "source": [
    "Now our df[t] column was stationary and  auto arima function suggests that moing average(1) would be better to predict future"
   ]
  },
  {
   "cell_type": "code",
   "execution_count": 100,
   "metadata": {},
   "outputs": [
    {
     "name": "stdout",
     "output_type": "stream",
     "text": [
      "Performing stepwise search to minimize aic\n",
      " ARIMA(2,1,2)(0,0,0)[0] intercept   : AIC=623.722, Time=0.33 sec\n",
      " ARIMA(0,1,0)(0,0,0)[0] intercept   : AIC=653.165, Time=0.02 sec\n",
      " ARIMA(1,1,0)(0,0,0)[0] intercept   : AIC=644.571, Time=0.04 sec\n",
      " ARIMA(0,1,1)(0,0,0)[0] intercept   : AIC=622.330, Time=0.08 sec\n",
      " ARIMA(0,1,0)(0,0,0)[0]             : AIC=651.192, Time=0.01 sec\n",
      " ARIMA(1,1,1)(0,0,0)[0] intercept   : AIC=624.330, Time=0.22 sec\n",
      " ARIMA(0,1,2)(0,0,0)[0] intercept   : AIC=624.330, Time=0.13 sec\n",
      " ARIMA(1,1,2)(0,0,0)[0] intercept   : AIC=inf, Time=0.23 sec\n",
      " ARIMA(0,1,1)(0,0,0)[0]             : AIC=622.872, Time=0.04 sec\n",
      "\n",
      "Best model:  ARIMA(0,1,1)(0,0,0)[0] intercept\n",
      "Total fit time: 1.087 seconds\n"
     ]
    }
   ],
   "source": [
    "from pmdarima import auto_arima\n",
    "step_wise = auto_arima(df['i'],trace = True,suppress_warnings = True)"
   ]
  },
  {
   "cell_type": "code",
   "execution_count": 13,
   "metadata": {},
   "outputs": [
    {
     "name": "stderr",
     "output_type": "stream",
     "text": [
      "C:\\Users\\Dell\\Anaconda3\\anaconda4\\lib\\site-packages\\statsmodels\\tsa\\arima_model.py:472: FutureWarning: \n",
      "statsmodels.tsa.arima_model.ARMA and statsmodels.tsa.arima_model.ARIMA have\n",
      "been deprecated in favor of statsmodels.tsa.arima.model.ARIMA (note the .\n",
      "between arima and model) and\n",
      "statsmodels.tsa.SARIMAX. These will be removed after the 0.12 release.\n",
      "\n",
      "statsmodels.tsa.arima.model.ARIMA makes use of the statespace framework and\n",
      "is both well tested and maintained.\n",
      "\n",
      "To silence this warning and continue using ARMA and ARIMA until they are\n",
      "removed, use:\n",
      "\n",
      "import warnings\n",
      "warnings.filterwarnings('ignore', 'statsmodels.tsa.arima_model.ARMA',\n",
      "                        FutureWarning)\n",
      "warnings.filterwarnings('ignore', 'statsmodels.tsa.arima_model.ARIMA',\n",
      "                        FutureWarning)\n",
      "\n",
      "  warnings.warn(ARIMA_DEPRECATION_WARN, FutureWarning)\n"
     ]
    },
    {
     "data": {
      "text/html": [
       "<table class=\"simpletable\">\n",
       "<caption>ARIMA Model Results</caption>\n",
       "<tr>\n",
       "  <th>Dep. Variable:</th>        <td>D.y</td>       <th>  No. Observations:  </th>    <td>57</td>   \n",
       "</tr>\n",
       "<tr>\n",
       "  <th>Model:</th>          <td>ARIMA(0, 1, 1)</td>  <th>  Log Likelihood     </th> <td>-308.166</td>\n",
       "</tr>\n",
       "<tr>\n",
       "  <th>Method:</th>             <td>css-mle</td>     <th>  S.D. of innovations</th>  <td>53.162</td> \n",
       "</tr>\n",
       "<tr>\n",
       "  <th>Date:</th>          <td>Fri, 28 May 2021</td> <th>  AIC                </th>  <td>622.332</td>\n",
       "</tr>\n",
       "<tr>\n",
       "  <th>Time:</th>              <td>18:27:05</td>     <th>  BIC                </th>  <td>628.461</td>\n",
       "</tr>\n",
       "<tr>\n",
       "  <th>Sample:</th>                <td>1</td>        <th>  HQIC               </th>  <td>624.714</td>\n",
       "</tr>\n",
       "<tr>\n",
       "  <th></th>                       <td> </td>        <th>                     </th>     <td> </td>   \n",
       "</tr>\n",
       "</table>\n",
       "<table class=\"simpletable\">\n",
       "<tr>\n",
       "      <td></td>         <th>coef</th>     <th>std err</th>      <th>z</th>      <th>P>|z|</th>  <th>[0.025</th>    <th>0.975]</th>  \n",
       "</tr>\n",
       "<tr>\n",
       "  <th>const</th>     <td>    1.9130</td> <td>    0.885</td> <td>    2.162</td> <td> 0.031</td> <td>    0.179</td> <td>    3.647</td>\n",
       "</tr>\n",
       "<tr>\n",
       "  <th>ma.L1.D.y</th> <td>   -0.8947</td> <td>    0.081</td> <td>  -11.098</td> <td> 0.000</td> <td>   -1.053</td> <td>   -0.737</td>\n",
       "</tr>\n",
       "</table>\n",
       "<table class=\"simpletable\">\n",
       "<caption>Roots</caption>\n",
       "<tr>\n",
       "    <td></td>   <th>            Real</th>  <th>         Imaginary</th> <th>         Modulus</th>  <th>        Frequency</th>\n",
       "</tr>\n",
       "<tr>\n",
       "  <th>MA.1</th> <td>           1.1177</td> <td>          +0.0000j</td> <td>           1.1177</td> <td>           0.0000</td>\n",
       "</tr>\n",
       "</table>"
      ],
      "text/plain": [
       "<class 'statsmodels.iolib.summary.Summary'>\n",
       "\"\"\"\n",
       "                             ARIMA Model Results                              \n",
       "==============================================================================\n",
       "Dep. Variable:                    D.y   No. Observations:                   57\n",
       "Model:                 ARIMA(0, 1, 1)   Log Likelihood                -308.166\n",
       "Method:                       css-mle   S.D. of innovations             53.162\n",
       "Date:                Fri, 28 May 2021   AIC                            622.332\n",
       "Time:                        18:27:05   BIC                            628.461\n",
       "Sample:                             1   HQIC                           624.714\n",
       "                                                                              \n",
       "==============================================================================\n",
       "                 coef    std err          z      P>|z|      [0.025      0.975]\n",
       "------------------------------------------------------------------------------\n",
       "const          1.9130      0.885      2.162      0.031       0.179       3.647\n",
       "ma.L1.D.y     -0.8947      0.081    -11.098      0.000      -1.053      -0.737\n",
       "                                    Roots                                    \n",
       "=============================================================================\n",
       "                  Real          Imaginary           Modulus         Frequency\n",
       "-----------------------------------------------------------------------------\n",
       "MA.1            1.1177           +0.0000j            1.1177            0.0000\n",
       "-----------------------------------------------------------------------------\n",
       "\"\"\""
      ]
     },
     "execution_count": 13,
     "metadata": {},
     "output_type": "execute_result"
    }
   ],
   "source": [
    "from statsmodels.tsa.arima_model import ARIMA\n",
    "model = ARIMA(np.asarray(df['i']),order = (0,1,1)).fit()\n",
    "model.summary()"
   ]
  },
  {
   "cell_type": "code",
   "execution_count": 14,
   "metadata": {},
   "outputs": [
    {
     "name": "stderr",
     "output_type": "stream",
     "text": [
      "C:\\Users\\Dell\\Anaconda3\\anaconda4\\lib\\site-packages\\statsmodels\\tsa\\arima_model.py:472: FutureWarning: \n",
      "statsmodels.tsa.arima_model.ARMA and statsmodels.tsa.arima_model.ARIMA have\n",
      "been deprecated in favor of statsmodels.tsa.arima.model.ARIMA (note the .\n",
      "between arima and model) and\n",
      "statsmodels.tsa.SARIMAX. These will be removed after the 0.12 release.\n",
      "\n",
      "statsmodels.tsa.arima.model.ARIMA makes use of the statespace framework and\n",
      "is both well tested and maintained.\n",
      "\n",
      "To silence this warning and continue using ARMA and ARIMA until they are\n",
      "removed, use:\n",
      "\n",
      "import warnings\n",
      "warnings.filterwarnings('ignore', 'statsmodels.tsa.arima_model.ARMA',\n",
      "                        FutureWarning)\n",
      "warnings.filterwarnings('ignore', 'statsmodels.tsa.arima_model.ARIMA',\n",
      "                        FutureWarning)\n",
      "\n",
      "  warnings.warn(ARIMA_DEPRECATION_WARN, FutureWarning)\n"
     ]
    },
    {
     "data": {
      "text/html": [
       "<table class=\"simpletable\">\n",
       "<caption>ARIMA Model Results</caption>\n",
       "<tr>\n",
       "  <th>Dep. Variable:</th>        <td>D.y</td>       <th>  No. Observations:  </th>    <td>57</td>   \n",
       "</tr>\n",
       "<tr>\n",
       "  <th>Model:</th>          <td>ARIMA(0, 1, 1)</td>  <th>  Log Likelihood     </th> <td>-326.608</td>\n",
       "</tr>\n",
       "<tr>\n",
       "  <th>Method:</th>             <td>css-mle</td>     <th>  S.D. of innovations</th>  <td>71.910</td> \n",
       "</tr>\n",
       "<tr>\n",
       "  <th>Date:</th>          <td>Fri, 28 May 2021</td> <th>  AIC                </th>  <td>659.217</td>\n",
       "</tr>\n",
       "<tr>\n",
       "  <th>Time:</th>              <td>18:27:10</td>     <th>  BIC                </th>  <td>665.346</td>\n",
       "</tr>\n",
       "<tr>\n",
       "  <th>Sample:</th>                <td>1</td>        <th>  HQIC               </th>  <td>661.599</td>\n",
       "</tr>\n",
       "<tr>\n",
       "  <th></th>                       <td> </td>        <th>                     </th>     <td> </td>   \n",
       "</tr>\n",
       "</table>\n",
       "<table class=\"simpletable\">\n",
       "<tr>\n",
       "      <td></td>         <th>coef</th>     <th>std err</th>      <th>z</th>      <th>P>|z|</th>  <th>[0.025</th>    <th>0.975]</th>  \n",
       "</tr>\n",
       "<tr>\n",
       "  <th>const</th>     <td>    0.0518</td> <td>    0.564</td> <td>    0.092</td> <td> 0.927</td> <td>   -1.054</td> <td>    1.157</td>\n",
       "</tr>\n",
       "<tr>\n",
       "  <th>ma.L1.D.y</th> <td>   -1.0000</td> <td>    0.043</td> <td>  -23.059</td> <td> 0.000</td> <td>   -1.085</td> <td>   -0.915</td>\n",
       "</tr>\n",
       "</table>\n",
       "<table class=\"simpletable\">\n",
       "<caption>Roots</caption>\n",
       "<tr>\n",
       "    <td></td>   <th>            Real</th>  <th>         Imaginary</th> <th>         Modulus</th>  <th>        Frequency</th>\n",
       "</tr>\n",
       "<tr>\n",
       "  <th>MA.1</th> <td>           1.0000</td> <td>          +0.0000j</td> <td>           1.0000</td> <td>           0.0000</td>\n",
       "</tr>\n",
       "</table>"
      ],
      "text/plain": [
       "<class 'statsmodels.iolib.summary.Summary'>\n",
       "\"\"\"\n",
       "                             ARIMA Model Results                              \n",
       "==============================================================================\n",
       "Dep. Variable:                    D.y   No. Observations:                   57\n",
       "Model:                 ARIMA(0, 1, 1)   Log Likelihood                -326.608\n",
       "Method:                       css-mle   S.D. of innovations             71.910\n",
       "Date:                Fri, 28 May 2021   AIC                            659.217\n",
       "Time:                        18:27:10   BIC                            665.346\n",
       "Sample:                             1   HQIC                           661.599\n",
       "                                                                              \n",
       "==============================================================================\n",
       "                 coef    std err          z      P>|z|      [0.025      0.975]\n",
       "------------------------------------------------------------------------------\n",
       "const          0.0518      0.564      0.092      0.927      -1.054       1.157\n",
       "ma.L1.D.y     -1.0000      0.043    -23.059      0.000      -1.085      -0.915\n",
       "                                    Roots                                    \n",
       "=============================================================================\n",
       "                  Real          Imaginary           Modulus         Frequency\n",
       "-----------------------------------------------------------------------------\n",
       "MA.1            1.0000           +0.0000j            1.0000            0.0000\n",
       "-----------------------------------------------------------------------------\n",
       "\"\"\""
      ]
     },
     "execution_count": 14,
     "metadata": {},
     "output_type": "execute_result"
    }
   ],
   "source": [
    "from statsmodels.tsa.arima_model import ARIMA\n",
    "model1 = ARIMA(np.asarray(df['t']),order = (0,1,1)).fit()\n",
    "model1.summary()"
   ]
  },
  {
   "cell_type": "code",
   "execution_count": 15,
   "metadata": {},
   "outputs": [],
   "source": [
    "pre = model.predict(start =2,end =len(df))"
   ]
  },
  {
   "cell_type": "code",
   "execution_count": 16,
   "metadata": {},
   "outputs": [],
   "source": [
    "pred = model1.predict(start =2,end =len(df))"
   ]
  },
  {
   "cell_type": "markdown",
   "metadata": {},
   "source": [
    "here, we started from 1 because MA(1) uses 1962 for predicting "
   ]
  },
  {
   "cell_type": "code",
   "execution_count": 17,
   "metadata": {},
   "outputs": [
    {
     "data": {
      "text/plain": [
       "array([-2.6001028066198915, 0.6855619345067971, 10.912957207299975,\n",
       "       26.76082337675949, -34.952956988779476, 3.0650264942518453,\n",
       "       -3.404062469859487, 3.3758760323782053, -0.771635591939527,\n",
       "       2.210900528065814, -14.612558277018838, 2.731485390902556,\n",
       "       24.914666216185157, -8.091167205973232, -20.253371416678423,\n",
       "       7.066944829104531, 2.5051102386297153, -21.677417098165776,\n",
       "       39.263818815659235, 0.84391049669048, -12.25631477787411,\n",
       "       31.546822325298187, -32.998723853499044, 6.843780279560281,\n",
       "       -14.191270026885753, 17.33435527599097, 22.11910501933714,\n",
       "       -28.0735395665439, 84.4913149812497, -77.22509151792431,\n",
       "       29.954623927801407, -58.5930895553243, 18.906589258749435,\n",
       "       3.069111218847622, 11.941110287797809, 18.576978386504063,\n",
       "       -29.213586400531646, 28.37197567685871, -5.755143738641708,\n",
       "       -9.671904210972457, -53.4854345503524, -2.358066984679591,\n",
       "       -2.9674312961071854, -1.6435185950509634, -123.72489746056073,\n",
       "       251.93429216895623, -129.89400849144866, -145.71881534654892,\n",
       "       158.33021231926676, 115.76836635778264, -18.529726598635406,\n",
       "       -114.86681875782637, 94.50365616917837, -91.53506434950017,\n",
       "       -116.26159882573813, 226.7448543872589, -67.60230737328867],\n",
       "      dtype=object)"
      ]
     },
     "execution_count": 17,
     "metadata": {},
     "output_type": "execute_result"
    }
   ],
   "source": [
    "pred"
   ]
  },
  {
   "cell_type": "code",
   "execution_count": 18,
   "metadata": {},
   "outputs": [
    {
     "data": {
      "text/plain": [
       "array([-0.4743442877453523, -0.4894098816478216, 9.410276666676687,\n",
       "       35.308492095006024, 1.623669682851964, 5.611892387186313,\n",
       "       3.104293100901171, 7.105635446958544, 6.901511899797388,\n",
       "       9.506098863454572, -4.156789562997568, -0.7842973387433929,\n",
       "       23.453736628752786, 15.17160958352364, -4.2101755700123125,\n",
       "       3.186222236533551, 5.794606360126728, -14.555804766126741,\n",
       "       23.437713509928646, 23.059073374912444, 10.462170865847646,\n",
       "       39.57738323720256, 6.595781838646706, 12.93638575308498,\n",
       "       -0.7545965870266809, 15.740501592116225, 35.45722073769291,\n",
       "       7.258812759381243, 85.27887396247448, 8.066783831069145,\n",
       "       35.691265766813835, -20.49427993819808, -0.9621873505625058,\n",
       "       2.376182105105485, 13.557903294535084, 29.913090953489398,\n",
       "       1.0347670070955175, 27.339431124338848, 20.161366994076182,\n",
       "       9.971070742403455, -39.56137826688202, -38.23219780758542,\n",
       "       -37.69742856322852, -36.115311393634784, -146.4362781183957,\n",
       "       95.82125768839006, -31.57634274056278, -162.48492796626303,\n",
       "       -4.727560534241405, 100.36562726569622, 73.86289695720889,\n",
       "       -38.06919261353939, 50.66009071816388, -37.969452979655586,\n",
       "       -141.3311249300807, 76.6621429929565, 8.299631615653126],\n",
       "      dtype=object)"
      ]
     },
     "execution_count": 18,
     "metadata": {},
     "output_type": "execute_result"
    }
   ],
   "source": [
    "pre"
   ]
  },
  {
   "cell_type": "code",
   "execution_count": 19,
   "metadata": {},
   "outputs": [],
   "source": [
    "j=0\n",
    "k = 89.8818\n",
    "a = []\n",
    "a.append(k)\n",
    "for i in range(1963,2020,1):\n",
    "    k= k +pre[j]\n",
    "    a.append(k)\n"
   ]
  },
  {
   "cell_type": "code",
   "execution_count": 20,
   "metadata": {},
   "outputs": [],
   "source": [
    "j=0\n",
    "k = 4.52746\n",
    "a1 = []\n",
    "a1.append(k)\n",
    "for i in range(1963,2020,1):\n",
    "    k= k +pred[j]\n",
    "    a1.append(k)\n"
   ]
  },
  {
   "cell_type": "code",
   "execution_count": 21,
   "metadata": {},
   "outputs": [],
   "source": [
    "j=0\n",
    "k = 89.8818\n",
    "a2 = []\n",
    "a2.append(k)\n",
    "for i in range(1963,2020,1):\n",
    "    k= k +a1[j]\n",
    "    a2.append(k)"
   ]
  },
  {
   "cell_type": "code",
   "execution_count": null,
   "metadata": {},
   "outputs": [],
   "source": []
  },
  {
   "cell_type": "markdown",
   "metadata": {},
   "source": [
    "forecasting the predicted to original value"
   ]
  },
  {
   "cell_type": "code",
   "execution_count": 22,
   "metadata": {},
   "outputs": [
    {
     "data": {
      "text/plain": [
       "[<matplotlib.lines.Line2D at 0x2659bc31340>]"
      ]
     },
     "execution_count": 22,
     "metadata": {},
     "output_type": "execute_result"
    },
    {
     "data": {
      "image/png": "[encoded data removed]",
      "text/plain": [
       "<Figure size 1152x432 with 1 Axes>"
      ]
     },
     "metadata": {
      "needs_background": "light"
     },
     "output_type": "display_data"
    }
   ],
   "source": [
    "from matplotlib import pyplot\n",
    "plt.subplots(figsize=(16,6)) \n",
    "y = np.arange(1962,2020)\n",
    "plt.plot(y,df['India'],color = 'black')\n",
    "plt.plot(y,a,color = 'red')"
   ]
  },
  {
   "cell_type": "code",
   "execution_count": 23,
   "metadata": {},
   "outputs": [],
   "source": [
    "train = df[:len(df)-14]\n",
    "test = df[len(df)-14:]"
   ]
  },
  {
   "cell_type": "markdown",
   "metadata": {},
   "source": [
    "Greater change is observed after 2005. So, we divide the data into two parts namely test and training and perform seperate analysis on test set"
   ]
  },
  {
   "cell_type": "code",
   "execution_count": 24,
   "metadata": {},
   "outputs": [
    {
     "name": "stdout",
     "output_type": "stream",
     "text": [
      "ADF =  -2.0326657065032188\n",
      "p value =  0.2724364829325251\n",
      "No of lags =  3\n"
     ]
    },
    {
     "name": "stderr",
     "output_type": "stream",
     "text": [
      "<ipython-input-24-da42ee90d660>:3: SettingWithCopyWarning: \n",
      "A value is trying to be set on a copy of a slice from a DataFrame\n",
      "\n",
      "See the caveats in the documentation: https://pandas.pydata.org/pandas-docs/stable/user_guide/indexing.html#returning-a-view-versus-a-copy\n",
      "  train.dropna(inplace = True)\n"
     ]
    }
   ],
   "source": [
    "\n",
    "## CHECKING FOR STATONARY\n",
    "from statsmodels.tsa.stattools import adfuller\n",
    "train.dropna(inplace = True)\n",
    "t = adfuller(train['i'],autolag ='AIC')\n",
    "print('ADF = ',t[0])\n",
    "print('p value = ',t[1])\n",
    "print('No of lags = ',t[2])"
   ]
  },
  {
   "cell_type": "markdown",
   "metadata": {},
   "source": [
    "Data non stationary."
   ]
  },
  {
   "cell_type": "code",
   "execution_count": 25,
   "metadata": {},
   "outputs": [
    {
     "name": "stdout",
     "output_type": "stream",
     "text": [
      "ADF =  -15.503597417524945\n",
      "p value =  2.3981431998725574e-28\n",
      "No of lags =  5\n"
     ]
    }
   ],
   "source": [
    "## CHECKING FOR STATONARY\n",
    "from statsmodels.tsa.stattools import adfuller\n",
    "df.dropna(inplace = True)\n",
    "t = adfuller(test['i'],autolag ='AIC')\n",
    "print('ADF = ',t[0])\n",
    "print('p value = ',t[1])\n",
    "print('No of lags = ',t[2])"
   ]
  },
  {
   "cell_type": "markdown",
   "metadata": {},
   "source": [
    "Now it seen that  after applying first degree diffrecing on test set data becomes stable so we proceed our analysis with df[i] column"
   ]
  },
  {
   "cell_type": "code",
   "execution_count": 26,
   "metadata": {},
   "outputs": [
    {
     "name": "stdout",
     "output_type": "stream",
     "text": [
      "Performing stepwise search to minimize aic\n",
      " ARIMA(2,0,2)(0,0,0)[0] intercept   : AIC=inf, Time=0.72 sec\n",
      " ARIMA(0,0,0)(0,0,0)[0] intercept   : AIC=169.530, Time=0.01 sec\n",
      " ARIMA(1,0,0)(0,0,0)[0] intercept   : AIC=171.167, Time=0.06 sec\n",
      " ARIMA(0,0,1)(0,0,0)[0] intercept   : AIC=inf, Time=0.05 sec\n",
      " ARIMA(0,0,0)(0,0,0)[0]             : AIC=178.725, Time=0.01 sec\n",
      " ARIMA(1,0,1)(0,0,0)[0] intercept   : AIC=inf, Time=0.10 sec\n",
      "\n",
      "Best model:  ARIMA(0,0,0)(0,0,0)[0] intercept\n",
      "Total fit time: 1.025 seconds\n"
     ]
    }
   ],
   "source": [
    "from pmdarima import auto_arima\n",
    "step_wise = auto_arima(test['i'],trace = True,suppress_warnings = True)"
   ]
  },
  {
   "cell_type": "markdown",
   "metadata": {},
   "source": [
    "### Now we observe that after splitting data in train and test set and performing first degree transformation on test set data becomes stable. But  Autoarima function doesn't predict appropriate model for predicting df[i] column."
   ]
  },
  {
   "cell_type": "code",
   "execution_count": 27,
   "metadata": {},
   "outputs": [
    {
     "name": "stdout",
     "output_type": "stream",
     "text": [
      "ADF =  0.4500474231482604\n",
      "p value =  0.98327308641642\n",
      "No of lags =  4\n"
     ]
    }
   ],
   "source": [
    "## CHECKING FOR STATONARY\n",
    "from statsmodels.tsa.stattools import adfuller\n",
    "df.dropna(inplace = True)\n",
    "t = adfuller(test['India'],autolag ='AIC')\n",
    "print('ADF = ',t[0])\n",
    "print('p value = ',t[1])\n",
    "print('No of lags = ',t[2])"
   ]
  },
  {
   "cell_type": "code",
   "execution_count": 28,
   "metadata": {},
   "outputs": [
    {
     "name": "stdout",
     "output_type": "stream",
     "text": [
      "Performing stepwise search to minimize aic\n",
      " ARIMA(2,1,2)(0,0,0)[0] intercept   : AIC=inf, Time=0.32 sec\n",
      " ARIMA(0,1,0)(0,0,0)[0] intercept   : AIC=158.663, Time=0.02 sec\n",
      " ARIMA(1,1,0)(0,0,0)[0] intercept   : AIC=160.343, Time=0.12 sec\n",
      " ARIMA(0,1,1)(0,0,0)[0] intercept   : AIC=inf, Time=0.10 sec\n",
      " ARIMA(0,1,0)(0,0,0)[0]             : AIC=166.616, Time=0.02 sec\n",
      " ARIMA(1,1,1)(0,0,0)[0] intercept   : AIC=inf, Time=0.12 sec\n",
      "\n",
      "Best model:  ARIMA(0,1,0)(0,0,0)[0] intercept\n",
      "Total fit time: 0.717 seconds\n"
     ]
    }
   ],
   "source": [
    "from pmdarima import auto_arima\n",
    "step_wise = auto_arima(test['India'],trace = True,suppress_warnings = True)"
   ]
  },
  {
   "cell_type": "code",
   "execution_count": null,
   "metadata": {},
   "outputs": [],
   "source": []
  },
  {
   "cell_type": "code",
   "execution_count": 29,
   "metadata": {},
   "outputs": [
    {
     "name": "stderr",
     "output_type": "stream",
     "text": [
      "C:\\Users\\Dell\\Anaconda3\\anaconda4\\lib\\site-packages\\statsmodels\\tsa\\arima_model.py:472: FutureWarning: \n",
      "statsmodels.tsa.arima_model.ARMA and statsmodels.tsa.arima_model.ARIMA have\n",
      "been deprecated in favor of statsmodels.tsa.arima.model.ARIMA (note the .\n",
      "between arima and model) and\n",
      "statsmodels.tsa.SARIMAX. These will be removed after the 0.12 release.\n",
      "\n",
      "statsmodels.tsa.arima.model.ARIMA makes use of the statespace framework and\n",
      "is both well tested and maintained.\n",
      "\n",
      "To silence this warning and continue using ARMA and ARIMA until they are\n",
      "removed, use:\n",
      "\n",
      "import warnings\n",
      "warnings.filterwarnings('ignore', 'statsmodels.tsa.arima_model.ARMA',\n",
      "                        FutureWarning)\n",
      "warnings.filterwarnings('ignore', 'statsmodels.tsa.arima_model.ARIMA',\n",
      "                        FutureWarning)\n",
      "\n",
      "  warnings.warn(ARIMA_DEPRECATION_WARN, FutureWarning)\n"
     ]
    },
    {
     "data": {
      "text/html": [
       "<table class=\"simpletable\">\n",
       "<caption>ARIMA Model Results</caption>\n",
       "<tr>\n",
       "  <th>Dep. Variable:</th>        <td>D.y</td>       <th>  No. Observations:  </th>   <td>13</td>   \n",
       "</tr>\n",
       "<tr>\n",
       "  <th>Model:</th>          <td>ARIMA(0, 1, 0)</td>  <th>  Log Likelihood     </th> <td>-77.332</td>\n",
       "</tr>\n",
       "<tr>\n",
       "  <th>Method:</th>               <td>css</td>       <th>  S.D. of innovations</th> <td>92.726</td> \n",
       "</tr>\n",
       "<tr>\n",
       "  <th>Date:</th>          <td>Fri, 28 May 2021</td> <th>  AIC                </th> <td>158.663</td>\n",
       "</tr>\n",
       "<tr>\n",
       "  <th>Time:</th>              <td>18:29:51</td>     <th>  BIC                </th> <td>159.793</td>\n",
       "</tr>\n",
       "<tr>\n",
       "  <th>Sample:</th>                <td>1</td>        <th>  HQIC               </th> <td>158.431</td>\n",
       "</tr>\n",
       "<tr>\n",
       "  <th></th>                       <td> </td>        <th>                     </th>    <td> </td>   \n",
       "</tr>\n",
       "</table>\n",
       "<table class=\"simpletable\">\n",
       "<tr>\n",
       "    <td></td>       <th>coef</th>     <th>std err</th>      <th>z</th>      <th>P>|z|</th>  <th>[0.025</th>    <th>0.975]</th>  \n",
       "</tr>\n",
       "<tr>\n",
       "  <th>const</th> <td>   99.4497</td> <td>   25.718</td> <td>    3.867</td> <td> 0.000</td> <td>   49.044</td> <td>  149.855</td>\n",
       "</tr>\n",
       "</table>"
      ],
      "text/plain": [
       "<class 'statsmodels.iolib.summary.Summary'>\n",
       "\"\"\"\n",
       "                             ARIMA Model Results                              \n",
       "==============================================================================\n",
       "Dep. Variable:                    D.y   No. Observations:                   13\n",
       "Model:                 ARIMA(0, 1, 0)   Log Likelihood                 -77.332\n",
       "Method:                           css   S.D. of innovations             92.726\n",
       "Date:                Fri, 28 May 2021   AIC                            158.663\n",
       "Time:                        18:29:51   BIC                            159.793\n",
       "Sample:                             1   HQIC                           158.431\n",
       "                                                                              \n",
       "==============================================================================\n",
       "                 coef    std err          z      P>|z|      [0.025      0.975]\n",
       "------------------------------------------------------------------------------\n",
       "const         99.4497     25.718      3.867      0.000      49.044     149.855\n",
       "==============================================================================\n",
       "\"\"\""
      ]
     },
     "execution_count": 29,
     "metadata": {},
     "output_type": "execute_result"
    }
   ],
   "source": [
    "from statsmodels.tsa.arima_model import ARIMA\n",
    "model = ARIMA(np.asarray(test['India']),order = (0,1,0)).fit()\n",
    "model.summary()"
   ]
  },
  {
   "cell_type": "code",
   "execution_count": 30,
   "metadata": {},
   "outputs": [],
   "source": [
    "pre = model.predict(start =1,end =len(test))"
   ]
  },
  {
   "cell_type": "code",
   "execution_count": 31,
   "metadata": {},
   "outputs": [],
   "source": [
    "j=0\n",
    "k = 806.753\n",
    "a = []\n",
    "for i in range(2007,2020,1):\n",
    "    k= k +pre[j]\n",
    "    a.append(k)"
   ]
  },
  {
   "cell_type": "code",
   "execution_count": 32,
   "metadata": {},
   "outputs": [
    {
     "data": {
      "text/plain": [
       "[<matplotlib.lines.Line2D at 0x265a8df5fa0>]"
      ]
     },
     "execution_count": 32,
     "metadata": {},
     "output_type": "execute_result"
    },
    {
     "data": {
      "image/png": "[encoded data removed]",
      "text/plain": [
       "<Figure size 1152x432 with 1 Axes>"
      ]
     },
     "metadata": {
      "needs_background": "light"
     },
     "output_type": "display_data"
    }
   ],
   "source": [
    "from matplotlib import pyplot\n",
    "plt.subplots(figsize=(16,6)) \n",
    "y1 = np.arange(2007,2020) \n",
    "y = np.arange(2006,2020)\n",
    "plt.plot(y1,a,color = 'blue',label ='Predicted')\n",
    "plt.plot(y,test['India'],color = 'red',label ='Actual')"
   ]
  },
  {
   "cell_type": "code",
   "execution_count": 33,
   "metadata": {},
   "outputs": [
    {
     "data": {
      "text/html": [
       "<div>\n",
       "<style scoped>\n",
       "    .dataframe tbody tr th:only-of-type {\n",
       "        vertical-align: middle;\n",
       "    }\n",
       "\n",
       "    .dataframe tbody tr th {\n",
       "        vertical-align: top;\n",
       "    }\n",
       "\n",
       "    .dataframe thead th {\n",
       "        text-align: right;\n",
       "    }\n",
       "</style>\n",
       "<table border=\"1\" class=\"dataframe\">\n",
       "  <thead>\n",
       "    <tr style=\"text-align: right;\">\n",
       "      <th></th>\n",
       "      <th>India</th>\n",
       "      <th>i</th>\n",
       "      <th>t</th>\n",
       "    </tr>\n",
       "  </thead>\n",
       "  <tbody>\n",
       "    <tr>\n",
       "      <th>2006</th>\n",
       "      <td>806.753</td>\n",
       "      <td>91.8923</td>\n",
       "      <td>4.8055</td>\n",
       "    </tr>\n",
       "    <tr>\n",
       "      <th>2007</th>\n",
       "      <td>1028.33</td>\n",
       "      <td>221.581</td>\n",
       "      <td>129.689</td>\n",
       "    </tr>\n",
       "    <tr>\n",
       "      <th>2008</th>\n",
       "      <td>998.522</td>\n",
       "      <td>-29.8124</td>\n",
       "      <td>-251.394</td>\n",
       "    </tr>\n",
       "    <tr>\n",
       "      <th>2009</th>\n",
       "      <td>1101.96</td>\n",
       "      <td>103.439</td>\n",
       "      <td>133.251</td>\n",
       "    </tr>\n",
       "    <tr>\n",
       "      <th>2010</th>\n",
       "      <td>1357.56</td>\n",
       "      <td>255.603</td>\n",
       "      <td>152.164</td>\n",
       "    </tr>\n",
       "    <tr>\n",
       "      <th>2011</th>\n",
       "      <td>1458.1</td>\n",
       "      <td>100.54</td>\n",
       "      <td>-155.063</td>\n",
       "    </tr>\n",
       "    <tr>\n",
       "      <th>2012</th>\n",
       "      <td>1443.88</td>\n",
       "      <td>-14.224</td>\n",
       "      <td>-114.764</td>\n",
       "    </tr>\n",
       "    <tr>\n",
       "      <th>2013</th>\n",
       "      <td>1449.61</td>\n",
       "      <td>5.72638</td>\n",
       "      <td>19.9504</td>\n",
       "    </tr>\n",
       "    <tr>\n",
       "      <th>2014</th>\n",
       "      <td>1573.88</td>\n",
       "      <td>124.276</td>\n",
       "      <td>118.549</td>\n",
       "    </tr>\n",
       "    <tr>\n",
       "      <th>2015</th>\n",
       "      <td>1605.61</td>\n",
       "      <td>31.7239</td>\n",
       "      <td>-92.5516</td>\n",
       "    </tr>\n",
       "    <tr>\n",
       "      <th>2016</th>\n",
       "      <td>1732.56</td>\n",
       "      <td>126.959</td>\n",
       "      <td>95.2349</td>\n",
       "    </tr>\n",
       "    <tr>\n",
       "      <th>2017</th>\n",
       "      <td>1981.65</td>\n",
       "      <td>249.087</td>\n",
       "      <td>122.128</td>\n",
       "    </tr>\n",
       "    <tr>\n",
       "      <th>2018</th>\n",
       "      <td>2005.86</td>\n",
       "      <td>24.212</td>\n",
       "      <td>-224.875</td>\n",
       "    </tr>\n",
       "    <tr>\n",
       "      <th>2019</th>\n",
       "      <td>2099.6</td>\n",
       "      <td>93.736</td>\n",
       "      <td>69.5241</td>\n",
       "    </tr>\n",
       "  </tbody>\n",
       "</table>\n",
       "</div>"
      ],
      "text/plain": [
       "        India        i        t\n",
       "2006  806.753  91.8923   4.8055\n",
       "2007  1028.33  221.581  129.689\n",
       "2008  998.522 -29.8124 -251.394\n",
       "2009  1101.96  103.439  133.251\n",
       "2010  1357.56  255.603  152.164\n",
       "2011   1458.1   100.54 -155.063\n",
       "2012  1443.88  -14.224 -114.764\n",
       "2013  1449.61  5.72638  19.9504\n",
       "2014  1573.88  124.276  118.549\n",
       "2015  1605.61  31.7239 -92.5516\n",
       "2016  1732.56  126.959  95.2349\n",
       "2017  1981.65  249.087  122.128\n",
       "2018  2005.86   24.212 -224.875\n",
       "2019   2099.6   93.736  69.5241"
      ]
     },
     "execution_count": 33,
     "metadata": {},
     "output_type": "execute_result"
    }
   ],
   "source": [
    "test"
   ]
  },
  {
   "cell_type": "code",
   "execution_count": 34,
   "metadata": {},
   "outputs": [],
   "source": [
    "test = test.iloc[1:,]"
   ]
  },
  {
   "cell_type": "code",
   "execution_count": 35,
   "metadata": {},
   "outputs": [
    {
     "name": "stderr",
     "output_type": "stream",
     "text": [
      "<ipython-input-35-803fb571341e>:2: SettingWithCopyWarning: \n",
      "A value is trying to be set on a copy of a slice from a DataFrame.\n",
      "Try using .loc[row_indexer,col_indexer] = value instead\n",
      "\n",
      "See the caveats in the documentation: https://pandas.pydata.org/pandas-docs/stable/user_guide/indexing.html#returning-a-view-versus-a-copy\n",
      "  test['predicted']=a\n"
     ]
    }
   ],
   "source": [
    "test['India'].mean()\n",
    "test['predicted']=a"
   ]
  },
  {
   "cell_type": "code",
   "execution_count": 36,
   "metadata": {},
   "outputs": [
    {
     "data": {
      "text/html": [
       "<div>\n",
       "<style scoped>\n",
       "    .dataframe tbody tr th:only-of-type {\n",
       "        vertical-align: middle;\n",
       "    }\n",
       "\n",
       "    .dataframe tbody tr th {\n",
       "        vertical-align: top;\n",
       "    }\n",
       "\n",
       "    .dataframe thead th {\n",
       "        text-align: right;\n",
       "    }\n",
       "</style>\n",
       "<table border=\"1\" class=\"dataframe\">\n",
       "  <thead>\n",
       "    <tr style=\"text-align: right;\">\n",
       "      <th></th>\n",
       "      <th>India</th>\n",
       "      <th>i</th>\n",
       "      <th>t</th>\n",
       "      <th>predicted</th>\n",
       "    </tr>\n",
       "  </thead>\n",
       "  <tbody>\n",
       "    <tr>\n",
       "      <th>2007</th>\n",
       "      <td>1028.33</td>\n",
       "      <td>221.581</td>\n",
       "      <td>129.689</td>\n",
       "      <td>906.202674</td>\n",
       "    </tr>\n",
       "    <tr>\n",
       "      <th>2008</th>\n",
       "      <td>998.522</td>\n",
       "      <td>-29.8124</td>\n",
       "      <td>-251.394</td>\n",
       "      <td>1005.652349</td>\n",
       "    </tr>\n",
       "    <tr>\n",
       "      <th>2009</th>\n",
       "      <td>1101.96</td>\n",
       "      <td>103.439</td>\n",
       "      <td>133.251</td>\n",
       "      <td>1105.102023</td>\n",
       "    </tr>\n",
       "    <tr>\n",
       "      <th>2010</th>\n",
       "      <td>1357.56</td>\n",
       "      <td>255.603</td>\n",
       "      <td>152.164</td>\n",
       "      <td>1204.551698</td>\n",
       "    </tr>\n",
       "    <tr>\n",
       "      <th>2011</th>\n",
       "      <td>1458.1</td>\n",
       "      <td>100.54</td>\n",
       "      <td>-155.063</td>\n",
       "      <td>1304.001372</td>\n",
       "    </tr>\n",
       "    <tr>\n",
       "      <th>2012</th>\n",
       "      <td>1443.88</td>\n",
       "      <td>-14.224</td>\n",
       "      <td>-114.764</td>\n",
       "      <td>1403.451046</td>\n",
       "    </tr>\n",
       "    <tr>\n",
       "      <th>2013</th>\n",
       "      <td>1449.61</td>\n",
       "      <td>5.72638</td>\n",
       "      <td>19.9504</td>\n",
       "      <td>1502.900721</td>\n",
       "    </tr>\n",
       "    <tr>\n",
       "      <th>2014</th>\n",
       "      <td>1573.88</td>\n",
       "      <td>124.276</td>\n",
       "      <td>118.549</td>\n",
       "      <td>1602.350395</td>\n",
       "    </tr>\n",
       "    <tr>\n",
       "      <th>2015</th>\n",
       "      <td>1605.61</td>\n",
       "      <td>31.7239</td>\n",
       "      <td>-92.5516</td>\n",
       "      <td>1701.800070</td>\n",
       "    </tr>\n",
       "    <tr>\n",
       "      <th>2016</th>\n",
       "      <td>1732.56</td>\n",
       "      <td>126.959</td>\n",
       "      <td>95.2349</td>\n",
       "      <td>1801.249744</td>\n",
       "    </tr>\n",
       "    <tr>\n",
       "      <th>2017</th>\n",
       "      <td>1981.65</td>\n",
       "      <td>249.087</td>\n",
       "      <td>122.128</td>\n",
       "      <td>1900.699419</td>\n",
       "    </tr>\n",
       "    <tr>\n",
       "      <th>2018</th>\n",
       "      <td>2005.86</td>\n",
       "      <td>24.212</td>\n",
       "      <td>-224.875</td>\n",
       "      <td>2000.149093</td>\n",
       "    </tr>\n",
       "    <tr>\n",
       "      <th>2019</th>\n",
       "      <td>2099.6</td>\n",
       "      <td>93.736</td>\n",
       "      <td>69.5241</td>\n",
       "      <td>2099.598767</td>\n",
       "    </tr>\n",
       "  </tbody>\n",
       "</table>\n",
       "</div>"
      ],
      "text/plain": [
       "        India        i        t    predicted\n",
       "2007  1028.33  221.581  129.689   906.202674\n",
       "2008  998.522 -29.8124 -251.394  1005.652349\n",
       "2009  1101.96  103.439  133.251  1105.102023\n",
       "2010  1357.56  255.603  152.164  1204.551698\n",
       "2011   1458.1   100.54 -155.063  1304.001372\n",
       "2012  1443.88  -14.224 -114.764  1403.451046\n",
       "2013  1449.61  5.72638  19.9504  1502.900721\n",
       "2014  1573.88  124.276  118.549  1602.350395\n",
       "2015  1605.61  31.7239 -92.5516  1701.800070\n",
       "2016  1732.56  126.959  95.2349  1801.249744\n",
       "2017  1981.65  249.087  122.128  1900.699419\n",
       "2018  2005.86   24.212 -224.875  2000.149093\n",
       "2019   2099.6   93.736  69.5241  2099.598767"
      ]
     },
     "execution_count": 36,
     "metadata": {},
     "output_type": "execute_result"
    }
   ],
   "source": [
    "test"
   ]
  },
  {
   "cell_type": "code",
   "execution_count": 37,
   "metadata": {},
   "outputs": [
    {
     "name": "stdout",
     "output_type": "stream",
     "text": [
      "R squared: 0.9439434387776041\n"
     ]
    }
   ],
   "source": [
    "from sklearn.metrics import mean_absolute_error\n",
    "from sklearn.metrics import mean_squared_error\n",
    "from sklearn.metrics import r2_score\n",
    "from sklearn import linear_model\n",
    "\n",
    "\n",
    "print(\"R squared: {}\".format(r2_score(y_true=test['India'],y_pred= test['predicted'])))\n"
   ]
  },
  {
   "cell_type": "code",
   "execution_count": 61,
   "metadata": {},
   "outputs": [
    {
     "name": "stdout",
     "output_type": "stream",
     "text": [
      "82.26565880908595\n"
     ]
    }
   ],
   "source": [
    "from sklearn.metrics import mean_squared_error\n",
    "from math import sqrt\n",
    "rmse = sqrt(mean_squared_error(a,test['India']))\n",
    "print (rmse)"
   ]
  },
  {
   "cell_type": "markdown",
   "metadata": {},
   "source": [
    "# Forecasting"
   ]
  },
  {
   "cell_type": "code",
   "execution_count": 62,
   "metadata": {},
   "outputs": [
    {
     "data": {
      "text/plain": [
       "[2099.5987674000003,\n",
       " 2199.048441815385,\n",
       " 2298.49811623077,\n",
       " 2397.9477906461548,\n",
       " 2497.3974650615396,\n",
       " 2596.8471394769244]"
      ]
     },
     "execution_count": 62,
     "metadata": {},
     "output_type": "execute_result"
    }
   ],
   "source": [
    "b = 2099.5987674000003\n",
    "f = []\n",
    "f.append(b)\n",
    "for i in range(2020,2025):\n",
    "    b = b+pre[0]\n",
    "    f.append(b)\n",
    "f"
   ]
  },
  {
   "cell_type": "code",
   "execution_count": 63,
   "metadata": {},
   "outputs": [
    {
     "data": {
      "text/plain": [
       "[<matplotlib.lines.Line2D at 0x1566ae64100>]"
      ]
     },
     "execution_count": 63,
     "metadata": {},
     "output_type": "execute_result"
    },
    {
     "data": {
      "image/png": "[encoded data removed]",
      "text/plain": [
       "<Figure size 1152x432 with 1 Axes>"
      ]
     },
     "metadata": {
      "needs_background": "light"
     },
     "output_type": "display_data"
    }
   ],
   "source": [
    "from matplotlib import pyplot\n",
    "plt.subplots(figsize=(16,6)) \n",
    "y1 = np.arange(2007,2020) \n",
    "y = np.arange(2006,2020)\n",
    "y2 = np.arange(2019,2025)\n",
    "plt.plot(y1,a,color = 'blue',label ='Predicted')\n",
    "plt.plot(y1,test['India'],color = 'red',label ='Actual')\n",
    "plt.plot(y2,f,color = 'orange',label = 'forecasted')"
   ]
  },
  {
   "cell_type": "markdown",
   "metadata": {},
   "source": [
    "# GDP per capita for China"
   ]
  },
  {
   "cell_type": "code",
   "execution_count": 38,
   "metadata": {},
   "outputs": [],
   "source": [
    "first_indicator = 'GDP per capita \\(current'\n",
    "country = 'CHN'\n",
    "\n",
    "mask1 = data['Indicator Name'].str.contains(first_indicator) \n",
    "mask2 = data['Country Code'].str.contains(country)\n",
    "\n",
    "# stage is just those indicators matching the USA for country code and CO2 emissions over time.\n",
    "c = data[mask1 & mask2]"
   ]
  },
  {
   "cell_type": "code",
   "execution_count": 39,
   "metadata": {},
   "outputs": [],
   "source": [
    "c = data[mask1 & mask2]\n",
    "c = c.iloc[1:,]\n",
    "c = c.transpose()\n",
    "c = c.iloc[4:,]\n",
    "df = pd.DataFrame(c)\n",
    "df.columns = ['China']\n",
    "df = df.iloc[:-1]\n"
   ]
  },
  {
   "cell_type": "code",
   "execution_count": 40,
   "metadata": {},
   "outputs": [
    {
     "data": {
      "text/plain": [
       "[<matplotlib.lines.Line2D at 0x265a8e80e80>]"
      ]
     },
     "execution_count": 40,
     "metadata": {},
     "output_type": "execute_result"
    },
    {
     "data": {
      "image/png": "[encoded data removed]",
      "text/plain": [
       "<Figure size 1152x432 with 1 Axes>"
      ]
     },
     "metadata": {
      "needs_background": "light"
     },
     "output_type": "display_data"
    }
   ],
   "source": [
    "from matplotlib import pyplot\n",
    "plt.subplots(figsize=(16,6)) \n",
    "y1 = np.arange(1960,2020)\n",
    "plt.plot(y1,df['China'],color = 'black')"
   ]
  },
  {
   "cell_type": "code",
   "execution_count": 41,
   "metadata": {},
   "outputs": [
    {
     "name": "stdout",
     "output_type": "stream",
     "text": [
      "ADF =  6.15294302386962\n",
      "p value =  1.0\n",
      "No of lags =  9\n"
     ]
    }
   ],
   "source": [
    "\n",
    "## CHECKING FOR STATONARY\n",
    "from statsmodels.tsa.stattools import adfuller\n",
    "df.dropna(inplace = True)\n",
    "t = adfuller(df['China'],autolag ='AIC')\n",
    "print('ADF = ',t[0])\n",
    "print('p value = ',t[1])\n",
    "print('No of lags = ',t[2])"
   ]
  },
  {
   "cell_type": "code",
   "execution_count": 42,
   "metadata": {},
   "outputs": [],
   "source": [
    "train = df[:len(df)-19]\n",
    "test = df[len(df)-19:]"
   ]
  },
  {
   "cell_type": "code",
   "execution_count": 43,
   "metadata": {},
   "outputs": [
    {
     "name": "stdout",
     "output_type": "stream",
     "text": [
      "ADF =  1.3188436740694374\n",
      "p value =  0.9967123867333796\n",
      "No of lags =  0\n"
     ]
    }
   ],
   "source": [
    "\n",
    "## CHECKING FOR STATONARY\n",
    "from statsmodels.tsa.stattools import adfuller\n",
    "df.dropna(inplace = True)\n",
    "t = adfuller(test['China'],autolag ='AIC')\n",
    "print('ADF = ',t[0])\n",
    "print('p value = ',t[1])\n",
    "print('No of lags = ',t[2])"
   ]
  },
  {
   "cell_type": "code",
   "execution_count": 44,
   "metadata": {},
   "outputs": [
    {
     "name": "stdout",
     "output_type": "stream",
     "text": [
      "Performing stepwise search to minimize aic\n",
      " ARIMA(2,1,2)(0,0,0)[0] intercept   : AIC=inf, Time=0.30 sec\n",
      " ARIMA(0,1,0)(0,0,0)[0] intercept   : AIC=261.371, Time=0.02 sec\n",
      " ARIMA(1,1,0)(0,0,0)[0] intercept   : AIC=261.508, Time=0.12 sec\n",
      " ARIMA(0,1,1)(0,0,0)[0] intercept   : AIC=inf, Time=0.07 sec\n",
      " ARIMA(0,1,0)(0,0,0)[0]             : AIC=283.072, Time=0.02 sec\n",
      " ARIMA(1,1,1)(0,0,0)[0] intercept   : AIC=inf, Time=0.12 sec\n",
      "\n",
      "Best model:  ARIMA(0,1,0)(0,0,0)[0] intercept\n",
      "Total fit time: 0.639 seconds\n"
     ]
    }
   ],
   "source": [
    "from pmdarima import auto_arima\n",
    "step_wise = auto_arima(test['China'],trace = True,suppress_warnings = True)"
   ]
  },
  {
   "cell_type": "code",
   "execution_count": 45,
   "metadata": {},
   "outputs": [
    {
     "name": "stderr",
     "output_type": "stream",
     "text": [
      "C:\\Users\\Dell\\Anaconda3\\anaconda4\\lib\\site-packages\\statsmodels\\tsa\\arima_model.py:472: FutureWarning: \n",
      "statsmodels.tsa.arima_model.ARMA and statsmodels.tsa.arima_model.ARIMA have\n",
      "been deprecated in favor of statsmodels.tsa.arima.model.ARIMA (note the .\n",
      "between arima and model) and\n",
      "statsmodels.tsa.SARIMAX. These will be removed after the 0.12 release.\n",
      "\n",
      "statsmodels.tsa.arima.model.ARIMA makes use of the statespace framework and\n",
      "is both well tested and maintained.\n",
      "\n",
      "To silence this warning and continue using ARMA and ARIMA until they are\n",
      "removed, use:\n",
      "\n",
      "import warnings\n",
      "warnings.filterwarnings('ignore', 'statsmodels.tsa.arima_model.ARMA',\n",
      "                        FutureWarning)\n",
      "warnings.filterwarnings('ignore', 'statsmodels.tsa.arima_model.ARIMA',\n",
      "                        FutureWarning)\n",
      "\n",
      "  warnings.warn(ARIMA_DEPRECATION_WARN, FutureWarning)\n"
     ]
    },
    {
     "data": {
      "text/html": [
       "<table class=\"simpletable\">\n",
       "<caption>ARIMA Model Results</caption>\n",
       "<tr>\n",
       "  <th>Dep. Variable:</th>        <td>D.y</td>       <th>  No. Observations:  </th>    <td>18</td>   \n",
       "</tr>\n",
       "<tr>\n",
       "  <th>Model:</th>          <td>ARIMA(0, 1, 0)</td>  <th>  Log Likelihood     </th> <td>-128.686</td>\n",
       "</tr>\n",
       "<tr>\n",
       "  <th>Method:</th>               <td>css</td>       <th>  S.D. of innovations</th>  <td>308.051</td>\n",
       "</tr>\n",
       "<tr>\n",
       "  <th>Date:</th>          <td>Fri, 28 May 2021</td> <th>  AIC                </th>  <td>261.371</td>\n",
       "</tr>\n",
       "<tr>\n",
       "  <th>Time:</th>              <td>18:33:29</td>     <th>  BIC                </th>  <td>263.152</td>\n",
       "</tr>\n",
       "<tr>\n",
       "  <th>Sample:</th>                <td>1</td>        <th>  HQIC               </th>  <td>261.617</td>\n",
       "</tr>\n",
       "<tr>\n",
       "  <th></th>                       <td> </td>        <th>                     </th>     <td> </td>   \n",
       "</tr>\n",
       "</table>\n",
       "<table class=\"simpletable\">\n",
       "<tr>\n",
       "    <td></td>       <th>coef</th>     <th>std err</th>      <th>z</th>      <th>P>|z|</th>  <th>[0.025</th>    <th>0.975]</th>  \n",
       "</tr>\n",
       "<tr>\n",
       "  <th>const</th> <td>  509.0846</td> <td>   72.608</td> <td>    7.011</td> <td> 0.000</td> <td>  366.775</td> <td>  651.394</td>\n",
       "</tr>\n",
       "</table>"
      ],
      "text/plain": [
       "<class 'statsmodels.iolib.summary.Summary'>\n",
       "\"\"\"\n",
       "                             ARIMA Model Results                              \n",
       "==============================================================================\n",
       "Dep. Variable:                    D.y   No. Observations:                   18\n",
       "Model:                 ARIMA(0, 1, 0)   Log Likelihood                -128.686\n",
       "Method:                           css   S.D. of innovations            308.051\n",
       "Date:                Fri, 28 May 2021   AIC                            261.371\n",
       "Time:                        18:33:29   BIC                            263.152\n",
       "Sample:                             1   HQIC                           261.617\n",
       "                                                                              \n",
       "==============================================================================\n",
       "                 coef    std err          z      P>|z|      [0.025      0.975]\n",
       "------------------------------------------------------------------------------\n",
       "const        509.0846     72.608      7.011      0.000     366.775     651.394\n",
       "==============================================================================\n",
       "\"\"\""
      ]
     },
     "execution_count": 45,
     "metadata": {},
     "output_type": "execute_result"
    }
   ],
   "source": [
    "from statsmodels.tsa.arima_model import ARIMA\n",
    "model = ARIMA(np.asarray(test['China']),order = (0,1,0)).fit()\n",
    "model.summary()"
   ]
  },
  {
   "cell_type": "code",
   "execution_count": 46,
   "metadata": {},
   "outputs": [],
   "source": [
    "pre = model.predict(start =2,end =len(df))\n"
   ]
  },
  {
   "cell_type": "code",
   "execution_count": 47,
   "metadata": {},
   "outputs": [],
   "source": [
    "j=0\n",
    "k = 959.372\n",
    "a = []\n",
    "for i in range(2001,2020,1):\n",
    "    k= k +pre[j]\n",
    "    a.append(k)\n"
   ]
  },
  {
   "cell_type": "code",
   "execution_count": 48,
   "metadata": {},
   "outputs": [
    {
     "data": {
      "text/plain": [
       "[<matplotlib.lines.Line2D at 0x265a8e33880>]"
      ]
     },
     "execution_count": 48,
     "metadata": {},
     "output_type": "execute_result"
    },
    {
     "data": {
      "image/png": "[encoded data removed]",
      "text/plain": [
       "<Figure size 1152x432 with 1 Axes>"
      ]
     },
     "metadata": {
      "needs_background": "light"
     },
     "output_type": "display_data"
    }
   ],
   "source": [
    "from matplotlib import pyplot\n",
    "plt.subplots(figsize=(16,6)) \n",
    "y1 = np.arange(2001,2020) \n",
    "plt.plot(y1,a,color = 'blue',label ='Predicted')\n",
    "plt.plot(y1,test['China'],color = 'red',label ='Actual')"
   ]
  },
  {
   "cell_type": "code",
   "execution_count": 49,
   "metadata": {},
   "outputs": [
    {
     "name": "stderr",
     "output_type": "stream",
     "text": [
      "<ipython-input-49-84f3ff7b7420>:2: SettingWithCopyWarning: \n",
      "A value is trying to be set on a copy of a slice from a DataFrame.\n",
      "Try using .loc[row_indexer,col_indexer] = value instead\n",
      "\n",
      "See the caveats in the documentation: https://pandas.pydata.org/pandas-docs/stable/user_guide/indexing.html#returning-a-view-versus-a-copy\n",
      "  test['predicted']= a\n"
     ]
    }
   ],
   "source": [
    "test['China'].mean()\n",
    "test['predicted']= a"
   ]
  },
  {
   "cell_type": "code",
   "execution_count": 50,
   "metadata": {},
   "outputs": [
    {
     "data": {
      "text/html": [
       "<div>\n",
       "<style scoped>\n",
       "    .dataframe tbody tr th:only-of-type {\n",
       "        vertical-align: middle;\n",
       "    }\n",
       "\n",
       "    .dataframe tbody tr th {\n",
       "        vertical-align: top;\n",
       "    }\n",
       "\n",
       "    .dataframe thead th {\n",
       "        text-align: right;\n",
       "    }\n",
       "</style>\n",
       "<table border=\"1\" class=\"dataframe\">\n",
       "  <thead>\n",
       "    <tr style=\"text-align: right;\">\n",
       "      <th></th>\n",
       "      <th>China</th>\n",
       "      <th>predicted</th>\n",
       "    </tr>\n",
       "  </thead>\n",
       "  <tbody>\n",
       "    <tr>\n",
       "      <th>2001</th>\n",
       "      <td>1053.11</td>\n",
       "      <td>1468.456560</td>\n",
       "    </tr>\n",
       "    <tr>\n",
       "      <th>2002</th>\n",
       "      <td>1148.51</td>\n",
       "      <td>1977.541121</td>\n",
       "    </tr>\n",
       "    <tr>\n",
       "      <th>2003</th>\n",
       "      <td>1288.64</td>\n",
       "      <td>2486.625681</td>\n",
       "    </tr>\n",
       "    <tr>\n",
       "      <th>2004</th>\n",
       "      <td>1508.67</td>\n",
       "      <td>2995.710242</td>\n",
       "    </tr>\n",
       "    <tr>\n",
       "      <th>2005</th>\n",
       "      <td>1753.42</td>\n",
       "      <td>3504.794802</td>\n",
       "    </tr>\n",
       "    <tr>\n",
       "      <th>2006</th>\n",
       "      <td>2099.23</td>\n",
       "      <td>4013.879362</td>\n",
       "    </tr>\n",
       "    <tr>\n",
       "      <th>2007</th>\n",
       "      <td>2693.97</td>\n",
       "      <td>4522.963923</td>\n",
       "    </tr>\n",
       "    <tr>\n",
       "      <th>2008</th>\n",
       "      <td>3468.3</td>\n",
       "      <td>5032.048483</td>\n",
       "    </tr>\n",
       "    <tr>\n",
       "      <th>2009</th>\n",
       "      <td>3832.24</td>\n",
       "      <td>5541.133043</td>\n",
       "    </tr>\n",
       "    <tr>\n",
       "      <th>2010</th>\n",
       "      <td>4550.45</td>\n",
       "      <td>6050.217604</td>\n",
       "    </tr>\n",
       "    <tr>\n",
       "      <th>2011</th>\n",
       "      <td>5618.13</td>\n",
       "      <td>6559.302164</td>\n",
       "    </tr>\n",
       "    <tr>\n",
       "      <th>2012</th>\n",
       "      <td>6316.92</td>\n",
       "      <td>7068.386725</td>\n",
       "    </tr>\n",
       "    <tr>\n",
       "      <th>2013</th>\n",
       "      <td>7050.65</td>\n",
       "      <td>7577.471285</td>\n",
       "    </tr>\n",
       "    <tr>\n",
       "      <th>2014</th>\n",
       "      <td>7678.6</td>\n",
       "      <td>8086.555845</td>\n",
       "    </tr>\n",
       "    <tr>\n",
       "      <th>2015</th>\n",
       "      <td>8066.94</td>\n",
       "      <td>8595.640406</td>\n",
       "    </tr>\n",
       "    <tr>\n",
       "      <th>2016</th>\n",
       "      <td>8147.94</td>\n",
       "      <td>9104.724966</td>\n",
       "    </tr>\n",
       "    <tr>\n",
       "      <th>2017</th>\n",
       "      <td>8879.44</td>\n",
       "      <td>9613.809527</td>\n",
       "    </tr>\n",
       "    <tr>\n",
       "      <th>2018</th>\n",
       "      <td>9976.68</td>\n",
       "      <td>10122.894087</td>\n",
       "    </tr>\n",
       "    <tr>\n",
       "      <th>2019</th>\n",
       "      <td>10216.6</td>\n",
       "      <td>10631.978647</td>\n",
       "    </tr>\n",
       "  </tbody>\n",
       "</table>\n",
       "</div>"
      ],
      "text/plain": [
       "        China     predicted\n",
       "2001  1053.11   1468.456560\n",
       "2002  1148.51   1977.541121\n",
       "2003  1288.64   2486.625681\n",
       "2004  1508.67   2995.710242\n",
       "2005  1753.42   3504.794802\n",
       "2006  2099.23   4013.879362\n",
       "2007  2693.97   4522.963923\n",
       "2008   3468.3   5032.048483\n",
       "2009  3832.24   5541.133043\n",
       "2010  4550.45   6050.217604\n",
       "2011  5618.13   6559.302164\n",
       "2012  6316.92   7068.386725\n",
       "2013  7050.65   7577.471285\n",
       "2014   7678.6   8086.555845\n",
       "2015  8066.94   8595.640406\n",
       "2016  8147.94   9104.724966\n",
       "2017  8879.44   9613.809527\n",
       "2018  9976.68  10122.894087\n",
       "2019  10216.6  10631.978647"
      ]
     },
     "execution_count": 50,
     "metadata": {},
     "output_type": "execute_result"
    }
   ],
   "source": [
    "test"
   ]
  },
  {
   "cell_type": "code",
   "execution_count": 52,
   "metadata": {},
   "outputs": [
    {
     "name": "stdout",
     "output_type": "stream",
     "text": [
      "R squared: 0.8588786128794156\n"
     ]
    }
   ],
   "source": [
    "from sklearn.metrics import mean_absolute_error\n",
    "from sklearn.metrics import mean_squared_error\n",
    "from sklearn.metrics import r2_score\n",
    "from sklearn import linear_model\n",
    "\n",
    "\n",
    "print(\"R squared: {}\".format(r2_score(y_true=test['China'],y_pred= test['predicted'])))"
   ]
  },
  {
   "cell_type": "code",
   "execution_count": 51,
   "metadata": {},
   "outputs": [
    {
     "name": "stdout",
     "output_type": "stream",
     "text": [
      "1170.2955560995838\n"
     ]
    }
   ],
   "source": [
    "from sklearn.metrics import mean_squared_error\n",
    "from math import sqrt\n",
    "rmse = sqrt(mean_squared_error(a,test['China']))\n",
    "print (rmse)"
   ]
  },
  {
   "cell_type": "markdown",
   "metadata": {},
   "source": [
    "# Forecasting "
   ]
  },
  {
   "cell_type": "code",
   "execution_count": 40,
   "metadata": {},
   "outputs": [],
   "source": [
    "b =  10631.978647388882\n",
    "f = []\n",
    "f.append(b)\n",
    "for i in range(2021,2031):\n",
    "    b = b+pre[0]\n",
    "    f.append(b)"
   ]
  },
  {
   "cell_type": "code",
   "execution_count": 41,
   "metadata": {},
   "outputs": [
    {
     "data": {
      "text/plain": [
       "[<matplotlib.lines.Line2D at 0x17b7259b130>]"
      ]
     },
     "execution_count": 41,
     "metadata": {},
     "output_type": "execute_result"
    },
    {
     "data": {
      "image/png": "[encoded data removed]",
      "text/plain": [
       "<Figure size 1152x432 with 1 Axes>"
      ]
     },
     "metadata": {
      "needs_background": "light"
     },
     "output_type": "display_data"
    }
   ],
   "source": [
    "from matplotlib import pyplot\n",
    "plt.subplots(figsize=(16,6)) \n",
    "y1 = np.arange(2001,2020) \n",
    "y2 = np.arange(2019,2030)\n",
    "plt.plot(y1,a,color = 'blue',label ='Predicted')\n",
    "plt.plot(y1,test['China'],color = 'red',label ='Actual')\n",
    "plt.plot(y2,f,color = 'orange',label = 'forecasted')"
   ]
  },
  {
   "cell_type": "markdown",
   "metadata": {},
   "source": [
    "# GDP per capita for USA"
   ]
  },
  {
   "cell_type": "code",
   "execution_count": 79,
   "metadata": {},
   "outputs": [],
   "source": [
    "first_indicator = 'GDP per capita \\(current'\n",
    "country = 'USA'\n",
    "\n",
    "mask1 = data['Indicator Name'].str.contains(first_indicator) \n",
    "mask2 = data['Country Code'].str.contains(country)\n",
    "\n",
    "# stage is just those indicators matching the USA for country code and CO2 emissions over time.\n",
    "c = data[mask1 & mask2]"
   ]
  },
  {
   "cell_type": "code",
   "execution_count": 80,
   "metadata": {},
   "outputs": [],
   "source": [
    "c = data[mask1 & mask2]\n",
    "c = c.iloc[1:,]\n",
    "c = c.transpose()\n",
    "c = c.iloc[4:,]\n",
    "df = pd.DataFrame(c)\n",
    "df.columns = ['USA']\n",
    "df = df.iloc[:-1]\n"
   ]
  },
  {
   "cell_type": "code",
   "execution_count": 81,
   "metadata": {},
   "outputs": [
    {
     "name": "stdout",
     "output_type": "stream",
     "text": [
      "ADF =  3.1560430496337064\n",
      "p value =  1.0\n",
      "No of lags =  2\n"
     ]
    }
   ],
   "source": [
    "\n",
    "## CHECKING FOR STATONARY\n",
    "from statsmodels.tsa.stattools import adfuller\n",
    "df.dropna(inplace = True)\n",
    "t = adfuller(df['USA'],autolag ='AIC')\n",
    "print('ADF = ',t[0])\n",
    "print('p value = ',t[1])\n",
    "print('No of lags = ',t[2])"
   ]
  },
  {
   "cell_type": "code",
   "execution_count": 82,
   "metadata": {},
   "outputs": [
    {
     "data": {
      "text/plain": [
       "[<matplotlib.lines.Line2D at 0x265aa07ae80>]"
      ]
     },
     "execution_count": 82,
     "metadata": {},
     "output_type": "execute_result"
    },
    {
     "data": {
      "image/png": "[encoded data removed]",
      "text/plain": [
       "<Figure size 1152x432 with 1 Axes>"
      ]
     },
     "metadata": {
      "needs_background": "light"
     },
     "output_type": "display_data"
    }
   ],
   "source": [
    "from matplotlib import pyplot\n",
    "plt.subplots(figsize=(16,6)) \n",
    "y1 = np.arange(1960,2020) \n",
    "plt.plot(y1,df['USA'],color = 'red',label ='Actual')\n"
   ]
  },
  {
   "cell_type": "code",
   "execution_count": 83,
   "metadata": {},
   "outputs": [],
   "source": [
    "df['i']=df['USA']-df['USA'].shift(1)"
   ]
  },
  {
   "cell_type": "code",
   "execution_count": 84,
   "metadata": {},
   "outputs": [
    {
     "name": "stdout",
     "output_type": "stream",
     "text": [
      "ADF =  -2.391149287100741\n",
      "p value =  0.14425005534520147\n",
      "No of lags =  0\n"
     ]
    }
   ],
   "source": [
    "\n",
    "## CHECKING FOR STATONARY\n",
    "from statsmodels.tsa.stattools import adfuller\n",
    "df.dropna(inplace = True)\n",
    "t = adfuller(test['i'],autolag ='AIC')\n",
    "print('ADF = ',t[0])\n",
    "print('p value = ',t[1])\n",
    "print('No of lags = ',t[2])"
   ]
  },
  {
   "cell_type": "code",
   "execution_count": 85,
   "metadata": {},
   "outputs": [
    {
     "name": "stdout",
     "output_type": "stream",
     "text": [
      "Performing stepwise search to minimize aic\n",
      " ARIMA(2,1,2)(0,0,0)[0] intercept   : AIC=inf, Time=0.50 sec\n",
      " ARIMA(0,1,0)(0,0,0)[0] intercept   : AIC=909.630, Time=0.02 sec\n",
      " ARIMA(1,1,0)(0,0,0)[0] intercept   : AIC=910.355, Time=0.12 sec\n",
      " ARIMA(0,1,1)(0,0,0)[0] intercept   : AIC=inf, Time=0.15 sec\n",
      " ARIMA(0,1,0)(0,0,0)[0]             : AIC=907.875, Time=0.02 sec\n",
      " ARIMA(1,1,1)(0,0,0)[0] intercept   : AIC=inf, Time=0.30 sec\n",
      "\n",
      "Best model:  ARIMA(0,1,0)(0,0,0)[0]          \n",
      "Total fit time: 1.134 seconds\n"
     ]
    }
   ],
   "source": [
    "from pmdarima import auto_arima\n",
    "step_wise = auto_arima(df['i'],trace = True,suppress_warnings = True)"
   ]
  },
  {
   "cell_type": "code",
   "execution_count": 86,
   "metadata": {},
   "outputs": [
    {
     "name": "stderr",
     "output_type": "stream",
     "text": [
      "C:\\Users\\Dell\\Anaconda3\\anaconda4\\lib\\site-packages\\statsmodels\\tsa\\arima_model.py:472: FutureWarning: \n",
      "statsmodels.tsa.arima_model.ARMA and statsmodels.tsa.arima_model.ARIMA have\n",
      "been deprecated in favor of statsmodels.tsa.arima.model.ARIMA (note the .\n",
      "between arima and model) and\n",
      "statsmodels.tsa.SARIMAX. These will be removed after the 0.12 release.\n",
      "\n",
      "statsmodels.tsa.arima.model.ARIMA makes use of the statespace framework and\n",
      "is both well tested and maintained.\n",
      "\n",
      "To silence this warning and continue using ARMA and ARIMA until they are\n",
      "removed, use:\n",
      "\n",
      "import warnings\n",
      "warnings.filterwarnings('ignore', 'statsmodels.tsa.arima_model.ARMA',\n",
      "                        FutureWarning)\n",
      "warnings.filterwarnings('ignore', 'statsmodels.tsa.arima_model.ARIMA',\n",
      "                        FutureWarning)\n",
      "\n",
      "  warnings.warn(ARIMA_DEPRECATION_WARN, FutureWarning)\n"
     ]
    },
    {
     "data": {
      "text/html": [
       "<table class=\"simpletable\">\n",
       "<caption>ARIMA Model Results</caption>\n",
       "<tr>\n",
       "  <th>Dep. Variable:</th>        <td>D.y</td>       <th>  No. Observations:  </th>    <td>58</td>   \n",
       "</tr>\n",
       "<tr>\n",
       "  <th>Model:</th>          <td>ARIMA(0, 1, 0)</td>  <th>  Log Likelihood     </th> <td>-452.815</td>\n",
       "</tr>\n",
       "<tr>\n",
       "  <th>Method:</th>               <td>css</td>       <th>  S.D. of innovations</th>  <td>594.796</td>\n",
       "</tr>\n",
       "<tr>\n",
       "  <th>Date:</th>          <td>Fri, 28 May 2021</td> <th>  AIC                </th>  <td>909.630</td>\n",
       "</tr>\n",
       "<tr>\n",
       "  <th>Time:</th>              <td>18:42:29</td>     <th>  BIC                </th>  <td>913.751</td>\n",
       "</tr>\n",
       "<tr>\n",
       "  <th>Sample:</th>                <td>1</td>        <th>  HQIC               </th>  <td>911.235</td>\n",
       "</tr>\n",
       "<tr>\n",
       "  <th></th>                       <td> </td>        <th>                     </th>     <td> </td>   \n",
       "</tr>\n",
       "</table>\n",
       "<table class=\"simpletable\">\n",
       "<tr>\n",
       "    <td></td>       <th>coef</th>     <th>std err</th>      <th>z</th>      <th>P>|z|</th>  <th>[0.025</th>    <th>0.975]</th>  \n",
       "</tr>\n",
       "<tr>\n",
       "  <th>const</th> <td>   38.6484</td> <td>   78.101</td> <td>    0.495</td> <td> 0.621</td> <td> -114.426</td> <td>  191.723</td>\n",
       "</tr>\n",
       "</table>"
      ],
      "text/plain": [
       "<class 'statsmodels.iolib.summary.Summary'>\n",
       "\"\"\"\n",
       "                             ARIMA Model Results                              \n",
       "==============================================================================\n",
       "Dep. Variable:                    D.y   No. Observations:                   58\n",
       "Model:                 ARIMA(0, 1, 0)   Log Likelihood                -452.815\n",
       "Method:                           css   S.D. of innovations            594.796\n",
       "Date:                Fri, 28 May 2021   AIC                            909.630\n",
       "Time:                        18:42:29   BIC                            913.751\n",
       "Sample:                             1   HQIC                           911.235\n",
       "                                                                              \n",
       "==============================================================================\n",
       "                 coef    std err          z      P>|z|      [0.025      0.975]\n",
       "------------------------------------------------------------------------------\n",
       "const         38.6484     78.101      0.495      0.621    -114.426     191.723\n",
       "==============================================================================\n",
       "\"\"\""
      ]
     },
     "execution_count": 86,
     "metadata": {},
     "output_type": "execute_result"
    }
   ],
   "source": [
    "from statsmodels.tsa.arima_model import ARIMA\n",
    "model = ARIMA(np.asarray(df['i']),order = (0,1,0)).fit()\n",
    "model.summary()"
   ]
  },
  {
   "cell_type": "code",
   "execution_count": 87,
   "metadata": {},
   "outputs": [],
   "source": [
    "pre = model.predict(start =2,end =len(df))\n"
   ]
  },
  {
   "cell_type": "code",
   "execution_count": 88,
   "metadata": {},
   "outputs": [
    {
     "data": {
      "text/plain": [
       "[177.28,\n",
       " 215.92839303448295,\n",
       " 254.5767860689659,\n",
       " 293.22517910344885,\n",
       " 331.8735721379318,\n",
       " 370.52196517241475,\n",
       " 409.17035820689773,\n",
       " 447.8187512413807,\n",
       " 486.4671442758637,\n",
       " 525.1155373103467,\n",
       " 563.7639303448296,\n",
       " 602.4123233793126,\n",
       " 641.0607164137956,\n",
       " 679.7091094482786,\n",
       " 718.3575024827616,\n",
       " 757.0058955172445,\n",
       " 795.6542885517275,\n",
       " 834.3026815862105,\n",
       " 872.9510746206935,\n",
       " 911.5994676551765,\n",
       " 950.2478606896594,\n",
       " 988.8962537241424,\n",
       " 1027.5446467586253,\n",
       " 1066.1930397931083,\n",
       " 1104.8414328275912,\n",
       " 1143.4898258620742,\n",
       " 1182.1382188965572,\n",
       " 1220.7866119310402,\n",
       " 1259.4350049655231,\n",
       " 1298.0833980000061,\n",
       " 1336.731791034489,\n",
       " 1375.380184068972,\n",
       " 1414.028577103455,\n",
       " 1452.676970137938,\n",
       " 1491.325363172421,\n",
       " 1529.973756206904,\n",
       " 1568.622149241387,\n",
       " 1607.27054227587,\n",
       " 1645.918935310353,\n",
       " 1684.567328344836,\n",
       " 1723.215721379319,\n",
       " 1761.8641144138019,\n",
       " 1800.5125074482849,\n",
       " 1839.1609004827678,\n",
       " 1877.8092935172508,\n",
       " 1916.4576865517338,\n",
       " 1955.1060795862168,\n",
       " 1993.7544726206997,\n",
       " 2032.4028656551827,\n",
       " 2071.0512586896657,\n",
       " 2109.6996517241487,\n",
       " 2148.3480447586317,\n",
       " 2186.9964377931146,\n",
       " 2225.6448308275976,\n",
       " 2264.2932238620806,\n",
       " 2302.9416168965636,\n",
       " 2341.5900099310466,\n",
       " 2380.2384029655295]"
      ]
     },
     "execution_count": 88,
     "metadata": {},
     "output_type": "execute_result"
    }
   ],
   "source": [
    "\n",
    "j=0\n",
    "k =  177.28\n",
    "a = []\n",
    "a.append(k)\n",
    "for i in range(1963,2020,1):\n",
    "    k= k +pre[j]\n",
    "    a.append(k)\n",
    "a"
   ]
  },
  {
   "cell_type": "code",
   "execution_count": 89,
   "metadata": {},
   "outputs": [
    {
     "data": {
      "text/plain": [
       "[3243.84,\n",
       " 3459.768393034483,\n",
       " 3714.3451791034486,\n",
       " 4007.5703582068973,\n",
       " 4339.443930344829,\n",
       " 4709.965895517244,\n",
       " 5119.136253724141,\n",
       " 5566.955004965522,\n",
       " 6053.422149241385,\n",
       " 6578.537686551732,\n",
       " 7142.301616896561,\n",
       " 7744.713940275874,\n",
       " 8385.77465668967,\n",
       " 9065.483766137948,\n",
       " 9783.84126862071,\n",
       " 10540.847164137955,\n",
       " 11336.501452689683,\n",
       " 12170.804134275893,\n",
       " 13043.755208896588,\n",
       " 13955.354676551764,\n",
       " 14905.602537241424,\n",
       " 15894.498790965567,\n",
       " 16922.04343772419,\n",
       " 17988.236477517297,\n",
       " 19093.077910344888,\n",
       " 20236.567736206962,\n",
       " 21418.70595510352,\n",
       " 22639.492567034562,\n",
       " 23898.927572000084,\n",
       " 25197.01097000009,\n",
       " 26533.74276103458,\n",
       " 27909.122945103554,\n",
       " 29323.15152220701,\n",
       " 30775.828492344946,\n",
       " 32267.15385551737,\n",
       " 33797.127611724274,\n",
       " 35365.749760965664,\n",
       " 36973.02030324153,\n",
       " 38618.93923855188,\n",
       " 40303.506566896715,\n",
       " 42026.72228827603,\n",
       " 43788.586402689834,\n",
       " 45589.09891013812,\n",
       " 47428.25981062089,\n",
       " 49306.06910413814,\n",
       " 51222.52679068988,\n",
       " 53177.632870276095,\n",
       " 55171.38734289679,\n",
       " 57203.790208551975,\n",
       " 59274.84146724164,\n",
       " 61384.54111896579,\n",
       " 63532.88916372442,\n",
       " 65719.88560151754,\n",
       " 67945.53043234514,\n",
       " 70209.82365620723,\n",
       " 72512.7652731038,\n",
       " 74854.35528303485,\n",
       " 77234.59368600039]"
      ]
     },
     "execution_count": 89,
     "metadata": {},
     "output_type": "execute_result"
    }
   ],
   "source": [
    "b =[]\n",
    "t = 3243.84\n",
    "b.append(t)\n",
    "k =1\n",
    "for i in range(1963,2020):\n",
    "    t = t+ a[k]\n",
    "    b.append(t)\n",
    "    k = k+1\n",
    "b"
   ]
  },
  {
   "cell_type": "code",
   "execution_count": 90,
   "metadata": {},
   "outputs": [
    {
     "data": {
      "text/plain": [
       "[<matplotlib.lines.Line2D at 0x265aa424e80>]"
      ]
     },
     "execution_count": 90,
     "metadata": {},
     "output_type": "execute_result"
    },
    {
     "data": {
      "image/png": "[encoded data removed]",
      "text/plain": [
       "<Figure size 1152x432 with 1 Axes>"
      ]
     },
     "metadata": {
      "needs_background": "light"
     },
     "output_type": "display_data"
    }
   ],
   "source": [
    "from matplotlib import pyplot\n",
    "plt.subplots(figsize=(16,6)) \n",
    "y1 = np.arange(1961,2020)\n",
    "y2 = np.arange(1962,2020)\n",
    "plt.plot(y1,df['USA'],color = 'red',label ='Actual')\n",
    "plt.plot(y2,b,color = 'black',label ='Actual')"
   ]
  },
  {
   "cell_type": "code",
   "execution_count": 91,
   "metadata": {},
   "outputs": [],
   "source": [
    "df = df.iloc[1:]"
   ]
  },
  {
   "cell_type": "code",
   "execution_count": 102,
   "metadata": {},
   "outputs": [],
   "source": [
    "train = df[:len(df)-19]\n",
    "test = df[len(df)-19:]"
   ]
  },
  {
   "cell_type": "code",
   "execution_count": 103,
   "metadata": {},
   "outputs": [
    {
     "name": "stdout",
     "output_type": "stream",
     "text": [
      "1145.8855283394294\n"
     ]
    }
   ],
   "source": [
    "from sklearn.metrics import mean_squared_error\n",
    "from math import sqrt\n",
    "rmse = sqrt(mean_squared_error(train['predicted'],train['USA']))\n",
    "print (rmse)"
   ]
  },
  {
   "cell_type": "code",
   "execution_count": 104,
   "metadata": {},
   "outputs": [
    {
     "name": "stdout",
     "output_type": "stream",
     "text": [
      "8497.545090590998\n"
     ]
    }
   ],
   "source": [
    "from sklearn.metrics import mean_squared_error\n",
    "from math import sqrt\n",
    "rmse = sqrt(mean_squared_error(test['predicted'],test['USA']))\n",
    "print (rmse)"
   ]
  },
  {
   "cell_type": "code",
   "execution_count": 98,
   "metadata": {},
   "outputs": [
    {
     "data": {
      "text/html": [
       "<div>\n",
       "<style scoped>\n",
       "    .dataframe tbody tr th:only-of-type {\n",
       "        vertical-align: middle;\n",
       "    }\n",
       "\n",
       "    .dataframe tbody tr th {\n",
       "        vertical-align: top;\n",
       "    }\n",
       "\n",
       "    .dataframe thead th {\n",
       "        text-align: right;\n",
       "    }\n",
       "</style>\n",
       "<table border=\"1\" class=\"dataframe\">\n",
       "  <thead>\n",
       "    <tr style=\"text-align: right;\">\n",
       "      <th></th>\n",
       "      <th>USA</th>\n",
       "      <th>i</th>\n",
       "    </tr>\n",
       "  </thead>\n",
       "  <tbody>\n",
       "    <tr>\n",
       "      <th>2001</th>\n",
       "      <td>37133.2</td>\n",
       "      <td>798.334</td>\n",
       "    </tr>\n",
       "    <tr>\n",
       "      <th>2002</th>\n",
       "      <td>38023.2</td>\n",
       "      <td>889.918</td>\n",
       "    </tr>\n",
       "    <tr>\n",
       "      <th>2003</th>\n",
       "      <td>39496.5</td>\n",
       "      <td>1473.32</td>\n",
       "    </tr>\n",
       "    <tr>\n",
       "      <th>2004</th>\n",
       "      <td>41712.8</td>\n",
       "      <td>2216.32</td>\n",
       "    </tr>\n",
       "    <tr>\n",
       "      <th>2005</th>\n",
       "      <td>44114.7</td>\n",
       "      <td>2401.95</td>\n",
       "    </tr>\n",
       "    <tr>\n",
       "      <th>2006</th>\n",
       "      <td>46298.7</td>\n",
       "      <td>2183.98</td>\n",
       "    </tr>\n",
       "    <tr>\n",
       "      <th>2007</th>\n",
       "      <td>47976</td>\n",
       "      <td>1677.24</td>\n",
       "    </tr>\n",
       "    <tr>\n",
       "      <th>2008</th>\n",
       "      <td>48382.6</td>\n",
       "      <td>406.591</td>\n",
       "    </tr>\n",
       "    <tr>\n",
       "      <th>2009</th>\n",
       "      <td>47100</td>\n",
       "      <td>-1282.58</td>\n",
       "    </tr>\n",
       "    <tr>\n",
       "      <th>2010</th>\n",
       "      <td>48467.5</td>\n",
       "      <td>1367.54</td>\n",
       "    </tr>\n",
       "    <tr>\n",
       "      <th>2011</th>\n",
       "      <td>49886.8</td>\n",
       "      <td>1419.3</td>\n",
       "    </tr>\n",
       "    <tr>\n",
       "      <th>2012</th>\n",
       "      <td>51610.6</td>\n",
       "      <td>1723.79</td>\n",
       "    </tr>\n",
       "    <tr>\n",
       "      <th>2013</th>\n",
       "      <td>53117.7</td>\n",
       "      <td>1507.06</td>\n",
       "    </tr>\n",
       "    <tr>\n",
       "      <th>2014</th>\n",
       "      <td>55064.7</td>\n",
       "      <td>1947.08</td>\n",
       "    </tr>\n",
       "    <tr>\n",
       "      <th>2015</th>\n",
       "      <td>56839.4</td>\n",
       "      <td>1774.64</td>\n",
       "    </tr>\n",
       "    <tr>\n",
       "      <th>2016</th>\n",
       "      <td>57951.6</td>\n",
       "      <td>1112.2</td>\n",
       "    </tr>\n",
       "    <tr>\n",
       "      <th>2017</th>\n",
       "      <td>60062.2</td>\n",
       "      <td>2110.64</td>\n",
       "    </tr>\n",
       "    <tr>\n",
       "      <th>2018</th>\n",
       "      <td>62996.5</td>\n",
       "      <td>2934.25</td>\n",
       "    </tr>\n",
       "    <tr>\n",
       "      <th>2019</th>\n",
       "      <td>65297.5</td>\n",
       "      <td>2301.05</td>\n",
       "    </tr>\n",
       "  </tbody>\n",
       "</table>\n",
       "</div>"
      ],
      "text/plain": [
       "          USA        i\n",
       "2001  37133.2  798.334\n",
       "2002  38023.2  889.918\n",
       "2003  39496.5  1473.32\n",
       "2004  41712.8  2216.32\n",
       "2005  44114.7  2401.95\n",
       "2006  46298.7  2183.98\n",
       "2007    47976  1677.24\n",
       "2008  48382.6  406.591\n",
       "2009    47100 -1282.58\n",
       "2010  48467.5  1367.54\n",
       "2011  49886.8   1419.3\n",
       "2012  51610.6  1723.79\n",
       "2013  53117.7  1507.06\n",
       "2014  55064.7  1947.08\n",
       "2015  56839.4  1774.64\n",
       "2016  57951.6   1112.2\n",
       "2017  60062.2  2110.64\n",
       "2018  62996.5  2934.25\n",
       "2019  65297.5  2301.05"
      ]
     },
     "execution_count": 98,
     "metadata": {},
     "output_type": "execute_result"
    }
   ],
   "source": [
    "test"
   ]
  },
  {
   "cell_type": "code",
   "execution_count": 94,
   "metadata": {},
   "outputs": [
    {
     "data": {
      "text/plain": [
       "26888.98024158621"
      ]
     },
     "execution_count": 94,
     "metadata": {},
     "output_type": "execute_result"
    }
   ],
   "source": [
    "df['predicted']= b\n",
    "df['USA'].mean()"
   ]
  },
  {
   "cell_type": "code",
   "execution_count": 100,
   "metadata": {},
   "outputs": [
    {
     "name": "stdout",
     "output_type": "stream",
     "text": [
      "4953.518900539585\n"
     ]
    }
   ],
   "source": [
    "from sklearn.metrics import mean_squared_error\n",
    "from math import sqrt\n",
    "rmse = sqrt(mean_squared_error(b,df['USA']))\n",
    "print (rmse)"
   ]
  },
  {
   "cell_type": "code",
   "execution_count": 101,
   "metadata": {},
   "outputs": [
    {
     "data": {
      "text/html": [
       "<div>\n",
       "<style scoped>\n",
       "    .dataframe tbody tr th:only-of-type {\n",
       "        vertical-align: middle;\n",
       "    }\n",
       "\n",
       "    .dataframe tbody tr th {\n",
       "        vertical-align: top;\n",
       "    }\n",
       "\n",
       "    .dataframe thead th {\n",
       "        text-align: right;\n",
       "    }\n",
       "</style>\n",
       "<table border=\"1\" class=\"dataframe\">\n",
       "  <thead>\n",
       "    <tr style=\"text-align: right;\">\n",
       "      <th></th>\n",
       "      <th>USA</th>\n",
       "      <th>i</th>\n",
       "      <th>predicted</th>\n",
       "      <th>diff</th>\n",
       "    </tr>\n",
       "  </thead>\n",
       "  <tbody>\n",
       "    <tr>\n",
       "      <th>1962</th>\n",
       "      <td>3243.84</td>\n",
       "      <td>177.28</td>\n",
       "      <td>3243.840000</td>\n",
       "      <td>-0.003078</td>\n",
       "    </tr>\n",
       "    <tr>\n",
       "      <th>1963</th>\n",
       "      <td>3374.52</td>\n",
       "      <td>130.672</td>\n",
       "      <td>3459.768393</td>\n",
       "      <td>85.2532</td>\n",
       "    </tr>\n",
       "    <tr>\n",
       "      <th>1964</th>\n",
       "      <td>3573.94</td>\n",
       "      <td>199.426</td>\n",
       "      <td>3714.345179</td>\n",
       "      <td>140.404</td>\n",
       "    </tr>\n",
       "    <tr>\n",
       "      <th>1965</th>\n",
       "      <td>3827.53</td>\n",
       "      <td>253.586</td>\n",
       "      <td>4007.570358</td>\n",
       "      <td>180.043</td>\n",
       "    </tr>\n",
       "    <tr>\n",
       "      <th>1966</th>\n",
       "      <td>4146.32</td>\n",
       "      <td>318.79</td>\n",
       "      <td>4339.443930</td>\n",
       "      <td>193.127</td>\n",
       "    </tr>\n",
       "    <tr>\n",
       "      <th>1967</th>\n",
       "      <td>4336.43</td>\n",
       "      <td>190.11</td>\n",
       "      <td>4709.965896</td>\n",
       "      <td>373.539</td>\n",
       "    </tr>\n",
       "    <tr>\n",
       "      <th>1968</th>\n",
       "      <td>4695.92</td>\n",
       "      <td>359.497</td>\n",
       "      <td>5119.136254</td>\n",
       "      <td>423.213</td>\n",
       "    </tr>\n",
       "    <tr>\n",
       "      <th>1969</th>\n",
       "      <td>5032.14</td>\n",
       "      <td>336.221</td>\n",
       "      <td>5566.955005</td>\n",
       "      <td>534.81</td>\n",
       "    </tr>\n",
       "    <tr>\n",
       "      <th>1970</th>\n",
       "      <td>5234.3</td>\n",
       "      <td>202.152</td>\n",
       "      <td>6053.422149</td>\n",
       "      <td>819.125</td>\n",
       "    </tr>\n",
       "    <tr>\n",
       "      <th>1971</th>\n",
       "      <td>5609.38</td>\n",
       "      <td>375.086</td>\n",
       "      <td>6578.537687</td>\n",
       "      <td>969.155</td>\n",
       "    </tr>\n",
       "    <tr>\n",
       "      <th>1972</th>\n",
       "      <td>6094.02</td>\n",
       "      <td>484.635</td>\n",
       "      <td>7142.301617</td>\n",
       "      <td>1048.28</td>\n",
       "    </tr>\n",
       "    <tr>\n",
       "      <th>1973</th>\n",
       "      <td>6726.36</td>\n",
       "      <td>632.341</td>\n",
       "      <td>7744.713940</td>\n",
       "      <td>1018.35</td>\n",
       "    </tr>\n",
       "    <tr>\n",
       "      <th>1974</th>\n",
       "      <td>7225.69</td>\n",
       "      <td>499.332</td>\n",
       "      <td>8385.774657</td>\n",
       "      <td>1160.08</td>\n",
       "    </tr>\n",
       "    <tr>\n",
       "      <th>1975</th>\n",
       "      <td>7801.46</td>\n",
       "      <td>575.765</td>\n",
       "      <td>9065.483766</td>\n",
       "      <td>1264.03</td>\n",
       "    </tr>\n",
       "    <tr>\n",
       "      <th>1976</th>\n",
       "      <td>8592.25</td>\n",
       "      <td>790.797</td>\n",
       "      <td>9783.841269</td>\n",
       "      <td>1191.59</td>\n",
       "    </tr>\n",
       "    <tr>\n",
       "      <th>1977</th>\n",
       "      <td>9452.58</td>\n",
       "      <td>860.323</td>\n",
       "      <td>10540.847164</td>\n",
       "      <td>1088.27</td>\n",
       "    </tr>\n",
       "    <tr>\n",
       "      <th>1978</th>\n",
       "      <td>10564.9</td>\n",
       "      <td>1112.37</td>\n",
       "      <td>11336.501453</td>\n",
       "      <td>771.553</td>\n",
       "    </tr>\n",
       "    <tr>\n",
       "      <th>1979</th>\n",
       "      <td>11674.2</td>\n",
       "      <td>1109.24</td>\n",
       "      <td>12170.804134</td>\n",
       "      <td>496.618</td>\n",
       "    </tr>\n",
       "    <tr>\n",
       "      <th>1980</th>\n",
       "      <td>12574.8</td>\n",
       "      <td>900.605</td>\n",
       "      <td>13043.755209</td>\n",
       "      <td>468.964</td>\n",
       "    </tr>\n",
       "    <tr>\n",
       "      <th>1981</th>\n",
       "      <td>13976.1</td>\n",
       "      <td>1401.32</td>\n",
       "      <td>13955.354677</td>\n",
       "      <td>-20.7551</td>\n",
       "    </tr>\n",
       "    <tr>\n",
       "      <th>1982</th>\n",
       "      <td>14433.8</td>\n",
       "      <td>457.678</td>\n",
       "      <td>14905.602537</td>\n",
       "      <td>471.815</td>\n",
       "    </tr>\n",
       "    <tr>\n",
       "      <th>1983</th>\n",
       "      <td>15543.9</td>\n",
       "      <td>1110.11</td>\n",
       "      <td>15894.498791</td>\n",
       "      <td>350.605</td>\n",
       "    </tr>\n",
       "    <tr>\n",
       "      <th>1984</th>\n",
       "      <td>17121.2</td>\n",
       "      <td>1577.33</td>\n",
       "      <td>16922.043438</td>\n",
       "      <td>-199.182</td>\n",
       "    </tr>\n",
       "    <tr>\n",
       "      <th>1985</th>\n",
       "      <td>18236.8</td>\n",
       "      <td>1115.6</td>\n",
       "      <td>17988.236478</td>\n",
       "      <td>-248.591</td>\n",
       "    </tr>\n",
       "    <tr>\n",
       "      <th>1986</th>\n",
       "      <td>19071.2</td>\n",
       "      <td>834.399</td>\n",
       "      <td>19093.077910</td>\n",
       "      <td>21.8507</td>\n",
       "    </tr>\n",
       "    <tr>\n",
       "      <th>1987</th>\n",
       "      <td>20038.9</td>\n",
       "      <td>967.714</td>\n",
       "      <td>20236.567736</td>\n",
       "      <td>197.627</td>\n",
       "    </tr>\n",
       "    <tr>\n",
       "      <th>1988</th>\n",
       "      <td>21417</td>\n",
       "      <td>1378.07</td>\n",
       "      <td>21418.705955</td>\n",
       "      <td>1.69403</td>\n",
       "    </tr>\n",
       "    <tr>\n",
       "      <th>1989</th>\n",
       "      <td>22857.2</td>\n",
       "      <td>1440.14</td>\n",
       "      <td>22639.492567</td>\n",
       "      <td>-217.662</td>\n",
       "    </tr>\n",
       "    <tr>\n",
       "      <th>1990</th>\n",
       "      <td>23888.6</td>\n",
       "      <td>1031.45</td>\n",
       "      <td>23898.927572</td>\n",
       "      <td>10.3276</td>\n",
       "    </tr>\n",
       "    <tr>\n",
       "      <th>1991</th>\n",
       "      <td>24342.3</td>\n",
       "      <td>453.659</td>\n",
       "      <td>25197.010970</td>\n",
       "      <td>854.752</td>\n",
       "    </tr>\n",
       "    <tr>\n",
       "      <th>1992</th>\n",
       "      <td>25419</td>\n",
       "      <td>1076.73</td>\n",
       "      <td>26533.742761</td>\n",
       "      <td>1114.75</td>\n",
       "    </tr>\n",
       "    <tr>\n",
       "      <th>1993</th>\n",
       "      <td>26387.3</td>\n",
       "      <td>968.303</td>\n",
       "      <td>27909.122945</td>\n",
       "      <td>1521.83</td>\n",
       "    </tr>\n",
       "    <tr>\n",
       "      <th>1994</th>\n",
       "      <td>27694.9</td>\n",
       "      <td>1307.56</td>\n",
       "      <td>29323.151522</td>\n",
       "      <td>1628.3</td>\n",
       "    </tr>\n",
       "    <tr>\n",
       "      <th>1995</th>\n",
       "      <td>28690.9</td>\n",
       "      <td>996.022</td>\n",
       "      <td>30775.828492</td>\n",
       "      <td>2084.95</td>\n",
       "    </tr>\n",
       "    <tr>\n",
       "      <th>1996</th>\n",
       "      <td>29967.7</td>\n",
       "      <td>1276.84</td>\n",
       "      <td>32267.153856</td>\n",
       "      <td>2299.44</td>\n",
       "    </tr>\n",
       "    <tr>\n",
       "      <th>1997</th>\n",
       "      <td>31459.1</td>\n",
       "      <td>1491.43</td>\n",
       "      <td>33797.127612</td>\n",
       "      <td>2337.99</td>\n",
       "    </tr>\n",
       "    <tr>\n",
       "      <th>1998</th>\n",
       "      <td>32853.7</td>\n",
       "      <td>1394.54</td>\n",
       "      <td>35365.749761</td>\n",
       "      <td>2512.07</td>\n",
       "    </tr>\n",
       "    <tr>\n",
       "      <th>1999</th>\n",
       "      <td>34513.6</td>\n",
       "      <td>1659.88</td>\n",
       "      <td>36973.020303</td>\n",
       "      <td>2459.46</td>\n",
       "    </tr>\n",
       "    <tr>\n",
       "      <th>2000</th>\n",
       "      <td>36334.9</td>\n",
       "      <td>1821.35</td>\n",
       "      <td>38618.939239</td>\n",
       "      <td>2284.03</td>\n",
       "    </tr>\n",
       "    <tr>\n",
       "      <th>2001</th>\n",
       "      <td>37133.2</td>\n",
       "      <td>798.334</td>\n",
       "      <td>40303.506567</td>\n",
       "      <td>3170.26</td>\n",
       "    </tr>\n",
       "    <tr>\n",
       "      <th>2002</th>\n",
       "      <td>38023.2</td>\n",
       "      <td>889.918</td>\n",
       "      <td>42026.722288</td>\n",
       "      <td>4003.56</td>\n",
       "    </tr>\n",
       "    <tr>\n",
       "      <th>2003</th>\n",
       "      <td>39496.5</td>\n",
       "      <td>1473.32</td>\n",
       "      <td>43788.586403</td>\n",
       "      <td>4292.1</td>\n",
       "    </tr>\n",
       "    <tr>\n",
       "      <th>2004</th>\n",
       "      <td>41712.8</td>\n",
       "      <td>2216.32</td>\n",
       "      <td>45589.098910</td>\n",
       "      <td>3876.3</td>\n",
       "    </tr>\n",
       "    <tr>\n",
       "      <th>2005</th>\n",
       "      <td>44114.7</td>\n",
       "      <td>2401.95</td>\n",
       "      <td>47428.259811</td>\n",
       "      <td>3313.51</td>\n",
       "    </tr>\n",
       "    <tr>\n",
       "      <th>2006</th>\n",
       "      <td>46298.7</td>\n",
       "      <td>2183.98</td>\n",
       "      <td>49306.069104</td>\n",
       "      <td>3007.34</td>\n",
       "    </tr>\n",
       "    <tr>\n",
       "      <th>2007</th>\n",
       "      <td>47976</td>\n",
       "      <td>1677.24</td>\n",
       "      <td>51222.526791</td>\n",
       "      <td>3246.56</td>\n",
       "    </tr>\n",
       "    <tr>\n",
       "      <th>2008</th>\n",
       "      <td>48382.6</td>\n",
       "      <td>406.591</td>\n",
       "      <td>53177.632870</td>\n",
       "      <td>4795.07</td>\n",
       "    </tr>\n",
       "    <tr>\n",
       "      <th>2009</th>\n",
       "      <td>47100</td>\n",
       "      <td>-1282.58</td>\n",
       "      <td>55171.387343</td>\n",
       "      <td>8071.41</td>\n",
       "    </tr>\n",
       "    <tr>\n",
       "      <th>2010</th>\n",
       "      <td>48467.5</td>\n",
       "      <td>1367.54</td>\n",
       "      <td>57203.790209</td>\n",
       "      <td>8736.27</td>\n",
       "    </tr>\n",
       "    <tr>\n",
       "      <th>2011</th>\n",
       "      <td>49886.8</td>\n",
       "      <td>1419.3</td>\n",
       "      <td>59274.841467</td>\n",
       "      <td>9388.02</td>\n",
       "    </tr>\n",
       "    <tr>\n",
       "      <th>2012</th>\n",
       "      <td>51610.6</td>\n",
       "      <td>1723.79</td>\n",
       "      <td>61384.541119</td>\n",
       "      <td>9773.94</td>\n",
       "    </tr>\n",
       "    <tr>\n",
       "      <th>2013</th>\n",
       "      <td>53117.7</td>\n",
       "      <td>1507.06</td>\n",
       "      <td>63532.889164</td>\n",
       "      <td>10415.2</td>\n",
       "    </tr>\n",
       "    <tr>\n",
       "      <th>2014</th>\n",
       "      <td>55064.7</td>\n",
       "      <td>1947.08</td>\n",
       "      <td>65719.885602</td>\n",
       "      <td>10655.1</td>\n",
       "    </tr>\n",
       "    <tr>\n",
       "      <th>2015</th>\n",
       "      <td>56839.4</td>\n",
       "      <td>1774.64</td>\n",
       "      <td>67945.530432</td>\n",
       "      <td>11106.1</td>\n",
       "    </tr>\n",
       "    <tr>\n",
       "      <th>2016</th>\n",
       "      <td>57951.6</td>\n",
       "      <td>1112.2</td>\n",
       "      <td>70209.823656</td>\n",
       "      <td>12258.2</td>\n",
       "    </tr>\n",
       "    <tr>\n",
       "      <th>2017</th>\n",
       "      <td>60062.2</td>\n",
       "      <td>2110.64</td>\n",
       "      <td>72512.765273</td>\n",
       "      <td>12450.5</td>\n",
       "    </tr>\n",
       "    <tr>\n",
       "      <th>2018</th>\n",
       "      <td>62996.5</td>\n",
       "      <td>2934.25</td>\n",
       "      <td>74854.355283</td>\n",
       "      <td>11857.9</td>\n",
       "    </tr>\n",
       "    <tr>\n",
       "      <th>2019</th>\n",
       "      <td>65297.5</td>\n",
       "      <td>2301.05</td>\n",
       "      <td>77234.593686</td>\n",
       "      <td>11937.1</td>\n",
       "    </tr>\n",
       "  </tbody>\n",
       "</table>\n",
       "</div>"
      ],
      "text/plain": [
       "          USA        i     predicted      diff\n",
       "1962  3243.84   177.28   3243.840000 -0.003078\n",
       "1963  3374.52  130.672   3459.768393   85.2532\n",
       "1964  3573.94  199.426   3714.345179   140.404\n",
       "1965  3827.53  253.586   4007.570358   180.043\n",
       "1966  4146.32   318.79   4339.443930   193.127\n",
       "1967  4336.43   190.11   4709.965896   373.539\n",
       "1968  4695.92  359.497   5119.136254   423.213\n",
       "1969  5032.14  336.221   5566.955005    534.81\n",
       "1970   5234.3  202.152   6053.422149   819.125\n",
       "1971  5609.38  375.086   6578.537687   969.155\n",
       "1972  6094.02  484.635   7142.301617   1048.28\n",
       "1973  6726.36  632.341   7744.713940   1018.35\n",
       "1974  7225.69  499.332   8385.774657   1160.08\n",
       "1975  7801.46  575.765   9065.483766   1264.03\n",
       "1976  8592.25  790.797   9783.841269   1191.59\n",
       "1977  9452.58  860.323  10540.847164   1088.27\n",
       "1978  10564.9  1112.37  11336.501453   771.553\n",
       "1979  11674.2  1109.24  12170.804134   496.618\n",
       "1980  12574.8  900.605  13043.755209   468.964\n",
       "1981  13976.1  1401.32  13955.354677  -20.7551\n",
       "1982  14433.8  457.678  14905.602537   471.815\n",
       "1983  15543.9  1110.11  15894.498791   350.605\n",
       "1984  17121.2  1577.33  16922.043438  -199.182\n",
       "1985  18236.8   1115.6  17988.236478  -248.591\n",
       "1986  19071.2  834.399  19093.077910   21.8507\n",
       "1987  20038.9  967.714  20236.567736   197.627\n",
       "1988    21417  1378.07  21418.705955   1.69403\n",
       "1989  22857.2  1440.14  22639.492567  -217.662\n",
       "1990  23888.6  1031.45  23898.927572   10.3276\n",
       "1991  24342.3  453.659  25197.010970   854.752\n",
       "1992    25419  1076.73  26533.742761   1114.75\n",
       "1993  26387.3  968.303  27909.122945   1521.83\n",
       "1994  27694.9  1307.56  29323.151522    1628.3\n",
       "1995  28690.9  996.022  30775.828492   2084.95\n",
       "1996  29967.7  1276.84  32267.153856   2299.44\n",
       "1997  31459.1  1491.43  33797.127612   2337.99\n",
       "1998  32853.7  1394.54  35365.749761   2512.07\n",
       "1999  34513.6  1659.88  36973.020303   2459.46\n",
       "2000  36334.9  1821.35  38618.939239   2284.03\n",
       "2001  37133.2  798.334  40303.506567   3170.26\n",
       "2002  38023.2  889.918  42026.722288   4003.56\n",
       "2003  39496.5  1473.32  43788.586403    4292.1\n",
       "2004  41712.8  2216.32  45589.098910    3876.3\n",
       "2005  44114.7  2401.95  47428.259811   3313.51\n",
       "2006  46298.7  2183.98  49306.069104   3007.34\n",
       "2007    47976  1677.24  51222.526791   3246.56\n",
       "2008  48382.6  406.591  53177.632870   4795.07\n",
       "2009    47100 -1282.58  55171.387343   8071.41\n",
       "2010  48467.5  1367.54  57203.790209   8736.27\n",
       "2011  49886.8   1419.3  59274.841467   9388.02\n",
       "2012  51610.6  1723.79  61384.541119   9773.94\n",
       "2013  53117.7  1507.06  63532.889164   10415.2\n",
       "2014  55064.7  1947.08  65719.885602   10655.1\n",
       "2015  56839.4  1774.64  67945.530432   11106.1\n",
       "2016  57951.6   1112.2  70209.823656   12258.2\n",
       "2017  60062.2  2110.64  72512.765273   12450.5\n",
       "2018  62996.5  2934.25  74854.355283   11857.9\n",
       "2019  65297.5  2301.05  77234.593686   11937.1"
      ]
     },
     "execution_count": 101,
     "metadata": {},
     "output_type": "execute_result"
    }
   ],
   "source": [
    "df['diff'] = df['predicted']- df['USA']\n",
    "df"
   ]
  },
  {
   "cell_type": "markdown",
   "metadata": {},
   "source": [
    "# FORECASTING"
   ]
  },
  {
   "cell_type": "code",
   "execution_count": 88,
   "metadata": {},
   "outputs": [
    {
     "data": {
      "text/plain": [
       "[2380.2384029655295,\n",
       " 2418.8867960000125,\n",
       " 2457.5351890344955,\n",
       " 2496.1835820689785,\n",
       " 2534.8319751034614,\n",
       " 2573.4803681379444,\n",
       " 2612.1287611724274,\n",
       " 2650.7771542069104,\n",
       " 2689.4255472413934,\n",
       " 2728.0739402758763,\n",
       " 2766.7223333103593,\n",
       " 2805.3707263448423,\n",
       " 2844.0191193793253]"
      ]
     },
     "execution_count": 88,
     "metadata": {},
     "output_type": "execute_result"
    }
   ],
   "source": [
    "j=0\n",
    "k =    2380.2384029655295\n",
    "f = []\n",
    "f.append(k)\n",
    "for i in range(2019,2031,1):\n",
    "    k= k +pre[j]\n",
    "    f.append(k)\n",
    "f"
   ]
  },
  {
   "cell_type": "code",
   "execution_count": 93,
   "metadata": {},
   "outputs": [],
   "source": [
    "fo =[]\n",
    "t =   77234.59368600039\n",
    "fo.append(t)\n",
    "k =1\n",
    "for i in range(2019,2031):\n",
    "    t = t+ f[k]\n",
    "    fo.append(t)\n",
    "    k = k+1\n"
   ]
  },
  {
   "cell_type": "code",
   "execution_count": 94,
   "metadata": {},
   "outputs": [
    {
     "data": {
      "text/plain": [
       "[<matplotlib.lines.Line2D at 0x27f5b812e20>]"
      ]
     },
     "execution_count": 94,
     "metadata": {},
     "output_type": "execute_result"
    },
    {
     "data": {
      "image/png": "[encoded data removed]",
      "text/plain": [
       "<Figure size 1152x432 with 1 Axes>"
      ]
     },
     "metadata": {
      "needs_background": "light"
     },
     "output_type": "display_data"
    }
   ],
   "source": [
    "from matplotlib import pyplot\n",
    "plt.subplots(figsize=(16,6)) \n",
    "y1 = np.arange(1961,2020)\n",
    "y3 = np.arange(1962,2020)\n",
    "y2 = np.arange(2019,2032)\n",
    "plt.plot(y1,df['USA'],color = 'red',label ='Actual')\n",
    "plt.plot(y3,b,color = 'black',label ='Actual')\n",
    "plt.plot(y2,fo,color = 'orange',label ='Actual')"
   ]
  },
  {
   "cell_type": "code",
   "execution_count": 84,
   "metadata": {},
   "outputs": [
    {
     "data": {
      "text/plain": [
       "59"
      ]
     },
     "execution_count": 84,
     "metadata": {},
     "output_type": "execute_result"
    }
   ],
   "source": [
    "len(df['USA'])"
   ]
  },
  {
   "cell_type": "code",
   "execution_count": 106,
   "metadata": {},
   "outputs": [
    {
     "name": "stdout",
     "output_type": "stream",
     "text": [
      "R squared: -0.137763510138057\n"
     ]
    }
   ],
   "source": [
    "from sklearn.metrics import mean_absolute_error\n",
    "from sklearn.metrics import mean_squared_error\n",
    "from sklearn.metrics import r2_score\n",
    "from sklearn import linear_model\n",
    "\n",
    "\n",
    "print(\"R squared: {}\".format(r2_score(y_true=test['USA'],y_pred= test['predicted'])))"
   ]
  },
  {
   "cell_type": "markdown",
   "metadata": {},
   "source": [
    "# ?"
   ]
  },
  {
   "cell_type": "code",
   "execution_count": 107,
   "metadata": {},
   "outputs": [
    {
     "name": "stdout",
     "output_type": "stream",
     "text": [
      "R squared: 0.9304827381395645\n"
     ]
    }
   ],
   "source": [
    "from sklearn.metrics import mean_absolute_error\n",
    "from sklearn.metrics import mean_squared_error\n",
    "from sklearn.metrics import r2_score\n",
    "from sklearn import linear_model\n",
    "\n",
    "\n",
    "print(\"R squared: {}\".format(r2_score(y_true=df['USA'],y_pred= df['predicted'])))"
   ]
  },
  {
   "cell_type": "code",
   "execution_count": null,
   "metadata": {},
   "outputs": [],
   "source": []
  }
 ],
 "metadata": {
  "kernelspec": {
   "display_name": "Python 3",
   "language": "python",
   "name": "python3"
  },
  "language_info": {
   "codemirror_mode": {
    "name": "ipython",
    "version": 3
   },
   "file_extension": ".py",
   "mimetype": "text/x-python",
   "name": "python",
   "nbconvert_exporter": "python",
   "pygments_lexer": "ipython3",
   "version": "3.8.5"
  }
 },
 "nbformat": 4,
 "nbformat_minor": 4
}
